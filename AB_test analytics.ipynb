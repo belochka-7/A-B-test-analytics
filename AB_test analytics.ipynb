{
 "cells": [
  {
   "cell_type": "markdown",
   "metadata": {},
   "source": [
    " #                                            Часть 1.Приоритизация гипотез.\n"
   ]
  },
  {
   "cell_type": "markdown",
   "metadata": {},
   "source": [
    "###  Цель: применить различные фреймворки для приоретизации гипотез, чтобы понять на какие именно цели рациональнее всего тратить ресурсы компании."
   ]
  },
  {
   "cell_type": "code",
   "execution_count": 1,
   "metadata": {},
   "outputs": [],
   "source": [
    "import pandas as pd"
   ]
  },
  {
   "cell_type": "code",
   "execution_count": 2,
   "metadata": {},
   "outputs": [],
   "source": [
    "data = pd.read_csv('/datasets/hypothesis.csv')"
   ]
  },
  {
   "cell_type": "code",
   "execution_count": 3,
   "metadata": {},
   "outputs": [
    {
     "data": {
      "text/html": [
       "<div>\n",
       "<style scoped>\n",
       "    .dataframe tbody tr th:only-of-type {\n",
       "        vertical-align: middle;\n",
       "    }\n",
       "\n",
       "    .dataframe tbody tr th {\n",
       "        vertical-align: top;\n",
       "    }\n",
       "\n",
       "    .dataframe thead th {\n",
       "        text-align: right;\n",
       "    }\n",
       "</style>\n",
       "<table border=\"1\" class=\"dataframe\">\n",
       "  <thead>\n",
       "    <tr style=\"text-align: right;\">\n",
       "      <th></th>\n",
       "      <th>Hypothesis</th>\n",
       "      <th>Reach</th>\n",
       "      <th>Impact</th>\n",
       "      <th>Confidence</th>\n",
       "      <th>Efforts</th>\n",
       "    </tr>\n",
       "  </thead>\n",
       "  <tbody>\n",
       "    <tr>\n",
       "      <th>0</th>\n",
       "      <td>Добавить два новых канала привлечения трафика,...</td>\n",
       "      <td>3</td>\n",
       "      <td>10</td>\n",
       "      <td>8</td>\n",
       "      <td>6</td>\n",
       "    </tr>\n",
       "    <tr>\n",
       "      <th>1</th>\n",
       "      <td>Запустить собственную службу доставки, что сок...</td>\n",
       "      <td>2</td>\n",
       "      <td>5</td>\n",
       "      <td>4</td>\n",
       "      <td>10</td>\n",
       "    </tr>\n",
       "    <tr>\n",
       "      <th>2</th>\n",
       "      <td>Добавить блоки рекомендаций товаров на сайт ин...</td>\n",
       "      <td>8</td>\n",
       "      <td>3</td>\n",
       "      <td>7</td>\n",
       "      <td>3</td>\n",
       "    </tr>\n",
       "    <tr>\n",
       "      <th>3</th>\n",
       "      <td>Изменить структура категорий, что увеличит кон...</td>\n",
       "      <td>8</td>\n",
       "      <td>3</td>\n",
       "      <td>3</td>\n",
       "      <td>8</td>\n",
       "    </tr>\n",
       "    <tr>\n",
       "      <th>4</th>\n",
       "      <td>Изменить цвет фона главной страницы, чтобы уве...</td>\n",
       "      <td>3</td>\n",
       "      <td>1</td>\n",
       "      <td>1</td>\n",
       "      <td>1</td>\n",
       "    </tr>\n",
       "    <tr>\n",
       "      <th>5</th>\n",
       "      <td>Добавить страницу отзывов клиентов о магазине,...</td>\n",
       "      <td>3</td>\n",
       "      <td>2</td>\n",
       "      <td>2</td>\n",
       "      <td>3</td>\n",
       "    </tr>\n",
       "    <tr>\n",
       "      <th>6</th>\n",
       "      <td>Показать на главной странице баннеры с актуаль...</td>\n",
       "      <td>5</td>\n",
       "      <td>3</td>\n",
       "      <td>8</td>\n",
       "      <td>3</td>\n",
       "    </tr>\n",
       "    <tr>\n",
       "      <th>7</th>\n",
       "      <td>Добавить форму подписки на все основные страни...</td>\n",
       "      <td>10</td>\n",
       "      <td>7</td>\n",
       "      <td>8</td>\n",
       "      <td>5</td>\n",
       "    </tr>\n",
       "    <tr>\n",
       "      <th>8</th>\n",
       "      <td>Запустить акцию, дающую скидку на товар в день...</td>\n",
       "      <td>1</td>\n",
       "      <td>9</td>\n",
       "      <td>9</td>\n",
       "      <td>5</td>\n",
       "    </tr>\n",
       "  </tbody>\n",
       "</table>\n",
       "</div>"
      ],
      "text/plain": [
       "                                          Hypothesis  Reach  Impact  \\\n",
       "0  Добавить два новых канала привлечения трафика,...      3      10   \n",
       "1  Запустить собственную службу доставки, что сок...      2       5   \n",
       "2  Добавить блоки рекомендаций товаров на сайт ин...      8       3   \n",
       "3  Изменить структура категорий, что увеличит кон...      8       3   \n",
       "4  Изменить цвет фона главной страницы, чтобы уве...      3       1   \n",
       "5  Добавить страницу отзывов клиентов о магазине,...      3       2   \n",
       "6  Показать на главной странице баннеры с актуаль...      5       3   \n",
       "7  Добавить форму подписки на все основные страни...     10       7   \n",
       "8  Запустить акцию, дающую скидку на товар в день...      1       9   \n",
       "\n",
       "   Confidence  Efforts  \n",
       "0           8        6  \n",
       "1           4       10  \n",
       "2           7        3  \n",
       "3           3        8  \n",
       "4           1        1  \n",
       "5           2        3  \n",
       "6           8        3  \n",
       "7           8        5  \n",
       "8           9        5  "
      ]
     },
     "metadata": {},
     "output_type": "display_data"
    }
   ],
   "source": [
    "display(data)"
   ]
  },
  {
   "cell_type": "code",
   "execution_count": 4,
   "metadata": {},
   "outputs": [],
   "source": [
    "data = data.rename(columns = {'Hypothesis':'hypothesis',   #приведем названия столбцов к более удобному виду\n",
    "                              'Reach':'reach',\n",
    "                              'Impact':'impact',\n",
    "                              'Confidence':'confidence',\n",
    "                              'Efforts':'efforts'})"
   ]
  },
  {
   "cell_type": "markdown",
   "metadata": {},
   "source": [
    "Применим фреймворк ICE для приоритизации гипотез, отсортируем результат по убыванию приоритета:"
   ]
  },
  {
   "cell_type": "code",
   "execution_count": 5,
   "metadata": {},
   "outputs": [],
   "source": [
    " pd.options.display.max_colwidth = 100\n",
    "data['ICE'] = data['impact'] * data['confidence'] / data['efforts']"
   ]
  },
  {
   "cell_type": "code",
   "execution_count": 6,
   "metadata": {},
   "outputs": [
    {
     "data": {
      "text/html": [
       "<div>\n",
       "<style scoped>\n",
       "    .dataframe tbody tr th:only-of-type {\n",
       "        vertical-align: middle;\n",
       "    }\n",
       "\n",
       "    .dataframe tbody tr th {\n",
       "        vertical-align: top;\n",
       "    }\n",
       "\n",
       "    .dataframe thead th {\n",
       "        text-align: right;\n",
       "    }\n",
       "</style>\n",
       "<table border=\"1\" class=\"dataframe\">\n",
       "  <thead>\n",
       "    <tr style=\"text-align: right;\">\n",
       "      <th></th>\n",
       "      <th>hypothesis</th>\n",
       "      <th>ICE</th>\n",
       "    </tr>\n",
       "  </thead>\n",
       "  <tbody>\n",
       "    <tr>\n",
       "      <th>8</th>\n",
       "      <td>Запустить акцию, дающую скидку на товар в день рождения</td>\n",
       "      <td>16.200000</td>\n",
       "    </tr>\n",
       "    <tr>\n",
       "      <th>0</th>\n",
       "      <td>Добавить два новых канала привлечения трафика, что позволит привлекать на 30% больше пользователей</td>\n",
       "      <td>13.333333</td>\n",
       "    </tr>\n",
       "    <tr>\n",
       "      <th>7</th>\n",
       "      <td>Добавить форму подписки на все основные страницы, чтобы собрать базу клиентов для email-рассылок</td>\n",
       "      <td>11.200000</td>\n",
       "    </tr>\n",
       "    <tr>\n",
       "      <th>6</th>\n",
       "      <td>Показать на главной странице баннеры с актуальными акциями и распродажами, чтобы увеличить конве...</td>\n",
       "      <td>8.000000</td>\n",
       "    </tr>\n",
       "    <tr>\n",
       "      <th>2</th>\n",
       "      <td>Добавить блоки рекомендаций товаров на сайт интернет магазина, чтобы повысить конверсию и средни...</td>\n",
       "      <td>7.000000</td>\n",
       "    </tr>\n",
       "    <tr>\n",
       "      <th>1</th>\n",
       "      <td>Запустить собственную службу доставки, что сократит срок доставки заказов</td>\n",
       "      <td>2.000000</td>\n",
       "    </tr>\n",
       "    <tr>\n",
       "      <th>5</th>\n",
       "      <td>Добавить страницу отзывов клиентов о магазине, что позволит увеличить количество заказов</td>\n",
       "      <td>1.333333</td>\n",
       "    </tr>\n",
       "    <tr>\n",
       "      <th>3</th>\n",
       "      <td>Изменить структура категорий, что увеличит конверсию, т.к. пользователи быстрее найдут нужный товар</td>\n",
       "      <td>1.125000</td>\n",
       "    </tr>\n",
       "    <tr>\n",
       "      <th>4</th>\n",
       "      <td>Изменить цвет фона главной страницы, чтобы увеличить вовлеченность пользователей</td>\n",
       "      <td>1.000000</td>\n",
       "    </tr>\n",
       "  </tbody>\n",
       "</table>\n",
       "</div>"
      ],
      "text/plain": [
       "                                                                                            hypothesis  \\\n",
       "8                                              Запустить акцию, дающую скидку на товар в день рождения   \n",
       "0   Добавить два новых канала привлечения трафика, что позволит привлекать на 30% больше пользователей   \n",
       "7     Добавить форму подписки на все основные страницы, чтобы собрать базу клиентов для email-рассылок   \n",
       "6  Показать на главной странице баннеры с актуальными акциями и распродажами, чтобы увеличить конве...   \n",
       "2  Добавить блоки рекомендаций товаров на сайт интернет магазина, чтобы повысить конверсию и средни...   \n",
       "1                            Запустить собственную службу доставки, что сократит срок доставки заказов   \n",
       "5             Добавить страницу отзывов клиентов о магазине, что позволит увеличить количество заказов   \n",
       "3  Изменить структура категорий, что увеличит конверсию, т.к. пользователи быстрее найдут нужный товар   \n",
       "4                     Изменить цвет фона главной страницы, чтобы увеличить вовлеченность пользователей   \n",
       "\n",
       "         ICE  \n",
       "8  16.200000  \n",
       "0  13.333333  \n",
       "7  11.200000  \n",
       "6   8.000000  \n",
       "2   7.000000  \n",
       "1   2.000000  \n",
       "5   1.333333  \n",
       "3   1.125000  \n",
       "4   1.000000  "
      ]
     },
     "metadata": {},
     "output_type": "display_data"
    }
   ],
   "source": [
    "display(data[['hypothesis', 'ICE']].sort_values(by='ICE', ascending=False))"
   ]
  },
  {
   "cell_type": "markdown",
   "metadata": {},
   "source": [
    "Применим фреймворк RICE для приоритизации гипотез, отсортируем результат по убыванию приоритета:"
   ]
  },
  {
   "cell_type": "code",
   "execution_count": 7,
   "metadata": {},
   "outputs": [],
   "source": [
    "data['RICE'] = data['reach'] * data['impact'] * data['confidence'] / data['efforts']"
   ]
  },
  {
   "cell_type": "code",
   "execution_count": 8,
   "metadata": {},
   "outputs": [
    {
     "data": {
      "text/html": [
       "<div>\n",
       "<style scoped>\n",
       "    .dataframe tbody tr th:only-of-type {\n",
       "        vertical-align: middle;\n",
       "    }\n",
       "\n",
       "    .dataframe tbody tr th {\n",
       "        vertical-align: top;\n",
       "    }\n",
       "\n",
       "    .dataframe thead th {\n",
       "        text-align: right;\n",
       "    }\n",
       "</style>\n",
       "<table border=\"1\" class=\"dataframe\">\n",
       "  <thead>\n",
       "    <tr style=\"text-align: right;\">\n",
       "      <th></th>\n",
       "      <th>hypothesis</th>\n",
       "      <th>RICE</th>\n",
       "    </tr>\n",
       "  </thead>\n",
       "  <tbody>\n",
       "    <tr>\n",
       "      <th>7</th>\n",
       "      <td>Добавить форму подписки на все основные страницы, чтобы собрать базу клиентов для email-рассылок</td>\n",
       "      <td>112.0</td>\n",
       "    </tr>\n",
       "    <tr>\n",
       "      <th>2</th>\n",
       "      <td>Добавить блоки рекомендаций товаров на сайт интернет магазина, чтобы повысить конверсию и средни...</td>\n",
       "      <td>56.0</td>\n",
       "    </tr>\n",
       "    <tr>\n",
       "      <th>0</th>\n",
       "      <td>Добавить два новых канала привлечения трафика, что позволит привлекать на 30% больше пользователей</td>\n",
       "      <td>40.0</td>\n",
       "    </tr>\n",
       "    <tr>\n",
       "      <th>6</th>\n",
       "      <td>Показать на главной странице баннеры с актуальными акциями и распродажами, чтобы увеличить конве...</td>\n",
       "      <td>40.0</td>\n",
       "    </tr>\n",
       "    <tr>\n",
       "      <th>8</th>\n",
       "      <td>Запустить акцию, дающую скидку на товар в день рождения</td>\n",
       "      <td>16.2</td>\n",
       "    </tr>\n",
       "    <tr>\n",
       "      <th>3</th>\n",
       "      <td>Изменить структура категорий, что увеличит конверсию, т.к. пользователи быстрее найдут нужный товар</td>\n",
       "      <td>9.0</td>\n",
       "    </tr>\n",
       "    <tr>\n",
       "      <th>1</th>\n",
       "      <td>Запустить собственную службу доставки, что сократит срок доставки заказов</td>\n",
       "      <td>4.0</td>\n",
       "    </tr>\n",
       "    <tr>\n",
       "      <th>5</th>\n",
       "      <td>Добавить страницу отзывов клиентов о магазине, что позволит увеличить количество заказов</td>\n",
       "      <td>4.0</td>\n",
       "    </tr>\n",
       "    <tr>\n",
       "      <th>4</th>\n",
       "      <td>Изменить цвет фона главной страницы, чтобы увеличить вовлеченность пользователей</td>\n",
       "      <td>3.0</td>\n",
       "    </tr>\n",
       "  </tbody>\n",
       "</table>\n",
       "</div>"
      ],
      "text/plain": [
       "                                                                                            hypothesis  \\\n",
       "7     Добавить форму подписки на все основные страницы, чтобы собрать базу клиентов для email-рассылок   \n",
       "2  Добавить блоки рекомендаций товаров на сайт интернет магазина, чтобы повысить конверсию и средни...   \n",
       "0   Добавить два новых канала привлечения трафика, что позволит привлекать на 30% больше пользователей   \n",
       "6  Показать на главной странице баннеры с актуальными акциями и распродажами, чтобы увеличить конве...   \n",
       "8                                              Запустить акцию, дающую скидку на товар в день рождения   \n",
       "3  Изменить структура категорий, что увеличит конверсию, т.к. пользователи быстрее найдут нужный товар   \n",
       "1                            Запустить собственную службу доставки, что сократит срок доставки заказов   \n",
       "5             Добавить страницу отзывов клиентов о магазине, что позволит увеличить количество заказов   \n",
       "4                     Изменить цвет фона главной страницы, чтобы увеличить вовлеченность пользователей   \n",
       "\n",
       "    RICE  \n",
       "7  112.0  \n",
       "2   56.0  \n",
       "0   40.0  \n",
       "6   40.0  \n",
       "8   16.2  \n",
       "3    9.0  \n",
       "1    4.0  \n",
       "5    4.0  \n",
       "4    3.0  "
      ]
     },
     "metadata": {},
     "output_type": "display_data"
    }
   ],
   "source": [
    "\n",
    "display(data[['hypothesis', 'RICE']].sort_values(by='RICE', ascending=False))\n"
   ]
  },
  {
   "cell_type": "markdown",
   "metadata": {},
   "source": [
    "# Вывод по приоритетам гипотез\n",
    "В нашем случае наиболее подходящий фреймворк для приоритизации гипотез является фреймворк RICE, так как этот фреймворк учитывает охват гипотезы. Поэтому наиболее перспективные гипотезы будут следующие:\n",
    "\n",
    "1)Добавить форму подписки на все основные страницы, чтобы собрать базу клиентов для email-рассылок;\n",
    "2)Добавить блоки рекомендаций товаров на сайт интернет магазина, чтобы повысить конверсию и средний чек заказа;\n",
    "3)Добавить два новых канала привлечения трафика, что позволит привлекать на 30% больше пользователей\n",
    "При этом гипотеза с добавление формы подписки имеет рейтинг в два раза больше, чем гипотеза с добавлением блоков с рекомендациями товаров, за счет высоких показателей охвата изменений, влияния и уверенности при средний расходах на внедрение."
   ]
  },
  {
   "cell_type": "markdown",
   "metadata": {},
   "source": [
    "# Часть 2. Анализ A/B-теста"
   ]
  },
  {
   "cell_type": "markdown",
   "metadata": {},
   "source": [
    "Цель: проанализировать А/В тест: опеределить, каким образом поменялись различные метрики при внедрении новой \"фичи\""
   ]
  },
  {
   "cell_type": "markdown",
   "metadata": {},
   "source": [
    "# Предобработка данных"
   ]
  },
  {
   "cell_type": "markdown",
   "metadata": {},
   "source": [
    "Откроем датафрейм с заказами"
   ]
  },
  {
   "cell_type": "code",
   "execution_count": 9,
   "metadata": {},
   "outputs": [],
   "source": [
    "orders = pd.read_csv('/datasets/orders.csv')"
   ]
  },
  {
   "cell_type": "code",
   "execution_count": 10,
   "metadata": {},
   "outputs": [
    {
     "data": {
      "text/html": [
       "<div>\n",
       "<style scoped>\n",
       "    .dataframe tbody tr th:only-of-type {\n",
       "        vertical-align: middle;\n",
       "    }\n",
       "\n",
       "    .dataframe tbody tr th {\n",
       "        vertical-align: top;\n",
       "    }\n",
       "\n",
       "    .dataframe thead th {\n",
       "        text-align: right;\n",
       "    }\n",
       "</style>\n",
       "<table border=\"1\" class=\"dataframe\">\n",
       "  <thead>\n",
       "    <tr style=\"text-align: right;\">\n",
       "      <th></th>\n",
       "      <th>transactionId</th>\n",
       "      <th>visitorId</th>\n",
       "      <th>date</th>\n",
       "      <th>revenue</th>\n",
       "      <th>group</th>\n",
       "    </tr>\n",
       "  </thead>\n",
       "  <tbody>\n",
       "    <tr>\n",
       "      <th>0</th>\n",
       "      <td>3667963787</td>\n",
       "      <td>3312258926</td>\n",
       "      <td>2019-08-15</td>\n",
       "      <td>1650</td>\n",
       "      <td>B</td>\n",
       "    </tr>\n",
       "    <tr>\n",
       "      <th>1</th>\n",
       "      <td>2804400009</td>\n",
       "      <td>3642806036</td>\n",
       "      <td>2019-08-15</td>\n",
       "      <td>730</td>\n",
       "      <td>B</td>\n",
       "    </tr>\n",
       "    <tr>\n",
       "      <th>2</th>\n",
       "      <td>2961555356</td>\n",
       "      <td>4069496402</td>\n",
       "      <td>2019-08-15</td>\n",
       "      <td>400</td>\n",
       "      <td>A</td>\n",
       "    </tr>\n",
       "    <tr>\n",
       "      <th>3</th>\n",
       "      <td>3797467345</td>\n",
       "      <td>1196621759</td>\n",
       "      <td>2019-08-15</td>\n",
       "      <td>9759</td>\n",
       "      <td>B</td>\n",
       "    </tr>\n",
       "    <tr>\n",
       "      <th>4</th>\n",
       "      <td>2282983706</td>\n",
       "      <td>2322279887</td>\n",
       "      <td>2019-08-15</td>\n",
       "      <td>2308</td>\n",
       "      <td>B</td>\n",
       "    </tr>\n",
       "    <tr>\n",
       "      <th>5</th>\n",
       "      <td>182168103</td>\n",
       "      <td>935554773</td>\n",
       "      <td>2019-08-15</td>\n",
       "      <td>2210</td>\n",
       "      <td>B</td>\n",
       "    </tr>\n",
       "    <tr>\n",
       "      <th>6</th>\n",
       "      <td>398296753</td>\n",
       "      <td>2900797465</td>\n",
       "      <td>2019-08-15</td>\n",
       "      <td>1860</td>\n",
       "      <td>B</td>\n",
       "    </tr>\n",
       "    <tr>\n",
       "      <th>7</th>\n",
       "      <td>2626614568</td>\n",
       "      <td>78758296</td>\n",
       "      <td>2019-08-15</td>\n",
       "      <td>1044</td>\n",
       "      <td>A</td>\n",
       "    </tr>\n",
       "    <tr>\n",
       "      <th>8</th>\n",
       "      <td>1576988021</td>\n",
       "      <td>295230930</td>\n",
       "      <td>2019-08-15</td>\n",
       "      <td>13710</td>\n",
       "      <td>A</td>\n",
       "    </tr>\n",
       "    <tr>\n",
       "      <th>9</th>\n",
       "      <td>1506739906</td>\n",
       "      <td>1882260405</td>\n",
       "      <td>2019-08-15</td>\n",
       "      <td>1855</td>\n",
       "      <td>B</td>\n",
       "    </tr>\n",
       "  </tbody>\n",
       "</table>\n",
       "</div>"
      ],
      "text/plain": [
       "   transactionId   visitorId        date  revenue group\n",
       "0     3667963787  3312258926  2019-08-15     1650     B\n",
       "1     2804400009  3642806036  2019-08-15      730     B\n",
       "2     2961555356  4069496402  2019-08-15      400     A\n",
       "3     3797467345  1196621759  2019-08-15     9759     B\n",
       "4     2282983706  2322279887  2019-08-15     2308     B\n",
       "5      182168103   935554773  2019-08-15     2210     B\n",
       "6      398296753  2900797465  2019-08-15     1860     B\n",
       "7     2626614568    78758296  2019-08-15     1044     A\n",
       "8     1576988021   295230930  2019-08-15    13710     A\n",
       "9     1506739906  1882260405  2019-08-15     1855     B"
      ]
     },
     "metadata": {},
     "output_type": "display_data"
    }
   ],
   "source": [
    "display(orders.head(10))  #проведем предварительный осмотр данных"
   ]
  },
  {
   "cell_type": "code",
   "execution_count": 11,
   "metadata": {},
   "outputs": [
    {
     "name": "stdout",
     "output_type": "stream",
     "text": [
      "<class 'pandas.core.frame.DataFrame'>\n",
      "RangeIndex: 1197 entries, 0 to 1196\n",
      "Data columns (total 5 columns):\n",
      " #   Column         Non-Null Count  Dtype \n",
      "---  ------         --------------  ----- \n",
      " 0   transactionId  1197 non-null   int64 \n",
      " 1   visitorId      1197 non-null   int64 \n",
      " 2   date           1197 non-null   object\n",
      " 3   revenue        1197 non-null   int64 \n",
      " 4   group          1197 non-null   object\n",
      "dtypes: int64(3), object(2)\n",
      "memory usage: 46.9+ KB\n"
     ]
    }
   ],
   "source": [
    "orders.info()"
   ]
  },
  {
   "cell_type": "code",
   "execution_count": 12,
   "metadata": {},
   "outputs": [],
   "source": [
    "orders['date'] = pd.to_datetime(orders['date']) #приведем стобец с датой к нужному типу"
   ]
  },
  {
   "cell_type": "code",
   "execution_count": 13,
   "metadata": {},
   "outputs": [
    {
     "data": {
      "text/plain": [
       "B    640\n",
       "A    557\n",
       "Name: group, dtype: int64"
      ]
     },
     "execution_count": 13,
     "metadata": {},
     "output_type": "execute_result"
    }
   ],
   "source": [
    "orders['group'].value_counts()  #количество пользователей в группах довольно существенно разлчиается"
   ]
  },
  {
   "cell_type": "code",
   "execution_count": 14,
   "metadata": {},
   "outputs": [
    {
     "data": {
      "text/plain": [
       "transactionId    0\n",
       "visitorId        0\n",
       "date             0\n",
       "revenue          0\n",
       "group            0\n",
       "dtype: int64"
      ]
     },
     "execution_count": 14,
     "metadata": {},
     "output_type": "execute_result"
    }
   ],
   "source": [
    "orders.isna().sum() #явных пропусков не обнаружено"
   ]
  },
  {
   "cell_type": "markdown",
   "metadata": {},
   "source": [
    "Посмотрим на датафрейм с посещениями"
   ]
  },
  {
   "cell_type": "code",
   "execution_count": 15,
   "metadata": {},
   "outputs": [],
   "source": [
    "visitors = pd.read_csv('/datasets/visitors.csv')"
   ]
  },
  {
   "cell_type": "code",
   "execution_count": 16,
   "metadata": {},
   "outputs": [
    {
     "data": {
      "text/html": [
       "<div>\n",
       "<style scoped>\n",
       "    .dataframe tbody tr th:only-of-type {\n",
       "        vertical-align: middle;\n",
       "    }\n",
       "\n",
       "    .dataframe tbody tr th {\n",
       "        vertical-align: top;\n",
       "    }\n",
       "\n",
       "    .dataframe thead th {\n",
       "        text-align: right;\n",
       "    }\n",
       "</style>\n",
       "<table border=\"1\" class=\"dataframe\">\n",
       "  <thead>\n",
       "    <tr style=\"text-align: right;\">\n",
       "      <th></th>\n",
       "      <th>date</th>\n",
       "      <th>group</th>\n",
       "      <th>visitors</th>\n",
       "    </tr>\n",
       "  </thead>\n",
       "  <tbody>\n",
       "    <tr>\n",
       "      <th>0</th>\n",
       "      <td>2019-08-01</td>\n",
       "      <td>A</td>\n",
       "      <td>719</td>\n",
       "    </tr>\n",
       "    <tr>\n",
       "      <th>1</th>\n",
       "      <td>2019-08-02</td>\n",
       "      <td>A</td>\n",
       "      <td>619</td>\n",
       "    </tr>\n",
       "    <tr>\n",
       "      <th>2</th>\n",
       "      <td>2019-08-03</td>\n",
       "      <td>A</td>\n",
       "      <td>507</td>\n",
       "    </tr>\n",
       "    <tr>\n",
       "      <th>3</th>\n",
       "      <td>2019-08-04</td>\n",
       "      <td>A</td>\n",
       "      <td>717</td>\n",
       "    </tr>\n",
       "    <tr>\n",
       "      <th>4</th>\n",
       "      <td>2019-08-05</td>\n",
       "      <td>A</td>\n",
       "      <td>756</td>\n",
       "    </tr>\n",
       "    <tr>\n",
       "      <th>5</th>\n",
       "      <td>2019-08-06</td>\n",
       "      <td>A</td>\n",
       "      <td>667</td>\n",
       "    </tr>\n",
       "    <tr>\n",
       "      <th>6</th>\n",
       "      <td>2019-08-07</td>\n",
       "      <td>A</td>\n",
       "      <td>644</td>\n",
       "    </tr>\n",
       "    <tr>\n",
       "      <th>7</th>\n",
       "      <td>2019-08-08</td>\n",
       "      <td>A</td>\n",
       "      <td>610</td>\n",
       "    </tr>\n",
       "    <tr>\n",
       "      <th>8</th>\n",
       "      <td>2019-08-09</td>\n",
       "      <td>A</td>\n",
       "      <td>617</td>\n",
       "    </tr>\n",
       "    <tr>\n",
       "      <th>9</th>\n",
       "      <td>2019-08-10</td>\n",
       "      <td>A</td>\n",
       "      <td>406</td>\n",
       "    </tr>\n",
       "  </tbody>\n",
       "</table>\n",
       "</div>"
      ],
      "text/plain": [
       "         date group  visitors\n",
       "0  2019-08-01     A       719\n",
       "1  2019-08-02     A       619\n",
       "2  2019-08-03     A       507\n",
       "3  2019-08-04     A       717\n",
       "4  2019-08-05     A       756\n",
       "5  2019-08-06     A       667\n",
       "6  2019-08-07     A       644\n",
       "7  2019-08-08     A       610\n",
       "8  2019-08-09     A       617\n",
       "9  2019-08-10     A       406"
      ]
     },
     "metadata": {},
     "output_type": "display_data"
    }
   ],
   "source": [
    "display(visitors.head(10))"
   ]
  },
  {
   "cell_type": "code",
   "execution_count": 17,
   "metadata": {},
   "outputs": [
    {
     "name": "stdout",
     "output_type": "stream",
     "text": [
      "<class 'pandas.core.frame.DataFrame'>\n",
      "RangeIndex: 62 entries, 0 to 61\n",
      "Data columns (total 3 columns):\n",
      " #   Column    Non-Null Count  Dtype \n",
      "---  ------    --------------  ----- \n",
      " 0   date      62 non-null     object\n",
      " 1   group     62 non-null     object\n",
      " 2   visitors  62 non-null     int64 \n",
      "dtypes: int64(1), object(2)\n",
      "memory usage: 1.6+ KB\n"
     ]
    }
   ],
   "source": [
    "visitors.info()"
   ]
  },
  {
   "cell_type": "code",
   "execution_count": 18,
   "metadata": {},
   "outputs": [
    {
     "data": {
      "text/plain": [
       "2019-08-27    2\n",
       "2019-08-09    2\n",
       "2019-08-14    2\n",
       "2019-08-31    2\n",
       "2019-08-11    2\n",
       "2019-08-03    2\n",
       "2019-08-19    2\n",
       "2019-08-07    2\n",
       "2019-08-18    2\n",
       "2019-08-08    2\n",
       "2019-08-01    2\n",
       "2019-08-29    2\n",
       "2019-08-28    2\n",
       "2019-08-22    2\n",
       "2019-08-15    2\n",
       "2019-08-23    2\n",
       "2019-08-21    2\n",
       "2019-08-13    2\n",
       "2019-08-04    2\n",
       "2019-08-05    2\n",
       "2019-08-24    2\n",
       "2019-08-20    2\n",
       "2019-08-26    2\n",
       "2019-08-17    2\n",
       "2019-08-02    2\n",
       "2019-08-12    2\n",
       "2019-08-25    2\n",
       "2019-08-16    2\n",
       "2019-08-06    2\n",
       "2019-08-10    2\n",
       "2019-08-30    2\n",
       "Name: date, dtype: int64"
      ]
     },
     "execution_count": 18,
     "metadata": {},
     "output_type": "execute_result"
    }
   ],
   "source": [
    "visitors['date'].value_counts()  #посмотрим на даты проведения А/B теста"
   ]
  },
  {
   "cell_type": "code",
   "execution_count": 19,
   "metadata": {},
   "outputs": [],
   "source": [
    "visitors['date'] = pd.to_datetime(visitors['date'])"
   ]
  },
  {
   "cell_type": "code",
   "execution_count": 20,
   "metadata": {},
   "outputs": [
    {
     "data": {
      "text/html": [
       "<div>\n",
       "<style scoped>\n",
       "    .dataframe tbody tr th:only-of-type {\n",
       "        vertical-align: middle;\n",
       "    }\n",
       "\n",
       "    .dataframe tbody tr th {\n",
       "        vertical-align: top;\n",
       "    }\n",
       "\n",
       "    .dataframe thead th {\n",
       "        text-align: right;\n",
       "    }\n",
       "</style>\n",
       "<table border=\"1\" class=\"dataframe\">\n",
       "  <thead>\n",
       "    <tr style=\"text-align: right;\">\n",
       "      <th></th>\n",
       "      <th>transactionId</th>\n",
       "      <th>visitorId</th>\n",
       "      <th>date</th>\n",
       "      <th>revenue</th>\n",
       "      <th>group</th>\n",
       "    </tr>\n",
       "  </thead>\n",
       "  <tbody>\n",
       "    <tr>\n",
       "      <th>0</th>\n",
       "      <td>3667963787</td>\n",
       "      <td>3312258926</td>\n",
       "      <td>2019-08-15</td>\n",
       "      <td>1650</td>\n",
       "      <td>B</td>\n",
       "    </tr>\n",
       "    <tr>\n",
       "      <th>1</th>\n",
       "      <td>2804400009</td>\n",
       "      <td>3642806036</td>\n",
       "      <td>2019-08-15</td>\n",
       "      <td>730</td>\n",
       "      <td>B</td>\n",
       "    </tr>\n",
       "    <tr>\n",
       "      <th>2</th>\n",
       "      <td>2961555356</td>\n",
       "      <td>4069496402</td>\n",
       "      <td>2019-08-15</td>\n",
       "      <td>400</td>\n",
       "      <td>A</td>\n",
       "    </tr>\n",
       "    <tr>\n",
       "      <th>3</th>\n",
       "      <td>3797467345</td>\n",
       "      <td>1196621759</td>\n",
       "      <td>2019-08-15</td>\n",
       "      <td>9759</td>\n",
       "      <td>B</td>\n",
       "    </tr>\n",
       "    <tr>\n",
       "      <th>4</th>\n",
       "      <td>2282983706</td>\n",
       "      <td>2322279887</td>\n",
       "      <td>2019-08-15</td>\n",
       "      <td>2308</td>\n",
       "      <td>B</td>\n",
       "    </tr>\n",
       "    <tr>\n",
       "      <th>...</th>\n",
       "      <td>...</td>\n",
       "      <td>...</td>\n",
       "      <td>...</td>\n",
       "      <td>...</td>\n",
       "      <td>...</td>\n",
       "    </tr>\n",
       "    <tr>\n",
       "      <th>1192</th>\n",
       "      <td>2662137336</td>\n",
       "      <td>3733762160</td>\n",
       "      <td>2019-08-14</td>\n",
       "      <td>6490</td>\n",
       "      <td>B</td>\n",
       "    </tr>\n",
       "    <tr>\n",
       "      <th>1193</th>\n",
       "      <td>2203539145</td>\n",
       "      <td>370388673</td>\n",
       "      <td>2019-08-14</td>\n",
       "      <td>3190</td>\n",
       "      <td>A</td>\n",
       "    </tr>\n",
       "    <tr>\n",
       "      <th>1194</th>\n",
       "      <td>1807773912</td>\n",
       "      <td>573423106</td>\n",
       "      <td>2019-08-14</td>\n",
       "      <td>10550</td>\n",
       "      <td>A</td>\n",
       "    </tr>\n",
       "    <tr>\n",
       "      <th>1195</th>\n",
       "      <td>1947021204</td>\n",
       "      <td>1614305549</td>\n",
       "      <td>2019-08-14</td>\n",
       "      <td>100</td>\n",
       "      <td>A</td>\n",
       "    </tr>\n",
       "    <tr>\n",
       "      <th>1196</th>\n",
       "      <td>3936777065</td>\n",
       "      <td>2108080724</td>\n",
       "      <td>2019-08-15</td>\n",
       "      <td>202740</td>\n",
       "      <td>B</td>\n",
       "    </tr>\n",
       "  </tbody>\n",
       "</table>\n",
       "<p>1197 rows × 5 columns</p>\n",
       "</div>"
      ],
      "text/plain": [
       "      transactionId   visitorId       date  revenue group\n",
       "0        3667963787  3312258926 2019-08-15     1650     B\n",
       "1        2804400009  3642806036 2019-08-15      730     B\n",
       "2        2961555356  4069496402 2019-08-15      400     A\n",
       "3        3797467345  1196621759 2019-08-15     9759     B\n",
       "4        2282983706  2322279887 2019-08-15     2308     B\n",
       "...             ...         ...        ...      ...   ...\n",
       "1192     2662137336  3733762160 2019-08-14     6490     B\n",
       "1193     2203539145   370388673 2019-08-14     3190     A\n",
       "1194     1807773912   573423106 2019-08-14    10550     A\n",
       "1195     1947021204  1614305549 2019-08-14      100     A\n",
       "1196     3936777065  2108080724 2019-08-15   202740     B\n",
       "\n",
       "[1197 rows x 5 columns]"
      ]
     },
     "metadata": {},
     "output_type": "display_data"
    },
    {
     "data": {
      "text/html": [
       "<div>\n",
       "<style scoped>\n",
       "    .dataframe tbody tr th:only-of-type {\n",
       "        vertical-align: middle;\n",
       "    }\n",
       "\n",
       "    .dataframe tbody tr th {\n",
       "        vertical-align: top;\n",
       "    }\n",
       "\n",
       "    .dataframe thead th {\n",
       "        text-align: right;\n",
       "    }\n",
       "</style>\n",
       "<table border=\"1\" class=\"dataframe\">\n",
       "  <thead>\n",
       "    <tr style=\"text-align: right;\">\n",
       "      <th></th>\n",
       "      <th>date</th>\n",
       "      <th>group</th>\n",
       "      <th>visitors</th>\n",
       "    </tr>\n",
       "  </thead>\n",
       "  <tbody>\n",
       "    <tr>\n",
       "      <th>0</th>\n",
       "      <td>2019-08-01</td>\n",
       "      <td>A</td>\n",
       "      <td>719</td>\n",
       "    </tr>\n",
       "    <tr>\n",
       "      <th>1</th>\n",
       "      <td>2019-08-02</td>\n",
       "      <td>A</td>\n",
       "      <td>619</td>\n",
       "    </tr>\n",
       "    <tr>\n",
       "      <th>2</th>\n",
       "      <td>2019-08-03</td>\n",
       "      <td>A</td>\n",
       "      <td>507</td>\n",
       "    </tr>\n",
       "    <tr>\n",
       "      <th>3</th>\n",
       "      <td>2019-08-04</td>\n",
       "      <td>A</td>\n",
       "      <td>717</td>\n",
       "    </tr>\n",
       "    <tr>\n",
       "      <th>4</th>\n",
       "      <td>2019-08-05</td>\n",
       "      <td>A</td>\n",
       "      <td>756</td>\n",
       "    </tr>\n",
       "    <tr>\n",
       "      <th>...</th>\n",
       "      <td>...</td>\n",
       "      <td>...</td>\n",
       "      <td>...</td>\n",
       "    </tr>\n",
       "    <tr>\n",
       "      <th>57</th>\n",
       "      <td>2019-08-27</td>\n",
       "      <td>B</td>\n",
       "      <td>720</td>\n",
       "    </tr>\n",
       "    <tr>\n",
       "      <th>58</th>\n",
       "      <td>2019-08-28</td>\n",
       "      <td>B</td>\n",
       "      <td>654</td>\n",
       "    </tr>\n",
       "    <tr>\n",
       "      <th>59</th>\n",
       "      <td>2019-08-29</td>\n",
       "      <td>B</td>\n",
       "      <td>531</td>\n",
       "    </tr>\n",
       "    <tr>\n",
       "      <th>60</th>\n",
       "      <td>2019-08-30</td>\n",
       "      <td>B</td>\n",
       "      <td>490</td>\n",
       "    </tr>\n",
       "    <tr>\n",
       "      <th>61</th>\n",
       "      <td>2019-08-31</td>\n",
       "      <td>B</td>\n",
       "      <td>718</td>\n",
       "    </tr>\n",
       "  </tbody>\n",
       "</table>\n",
       "<p>62 rows × 3 columns</p>\n",
       "</div>"
      ],
      "text/plain": [
       "         date group  visitors\n",
       "0  2019-08-01     A       719\n",
       "1  2019-08-02     A       619\n",
       "2  2019-08-03     A       507\n",
       "3  2019-08-04     A       717\n",
       "4  2019-08-05     A       756\n",
       "..        ...   ...       ...\n",
       "57 2019-08-27     B       720\n",
       "58 2019-08-28     B       654\n",
       "59 2019-08-29     B       531\n",
       "60 2019-08-30     B       490\n",
       "61 2019-08-31     B       718\n",
       "\n",
       "[62 rows x 3 columns]"
      ]
     },
     "metadata": {},
     "output_type": "display_data"
    }
   ],
   "source": [
    "display(orders)\n",
    "display(visitors)"
   ]
  },
  {
   "cell_type": "markdown",
   "metadata": {},
   "source": [
    "Переименуем навазния стобцоы для удобства:"
   ]
  },
  {
   "cell_type": "code",
   "execution_count": 21,
   "metadata": {},
   "outputs": [],
   "source": [
    "orders = orders.rename(columns={'transactionId':'orderId',\n",
    "                              'visitorId':'userId'})"
   ]
  },
  {
   "cell_type": "code",
   "execution_count": 22,
   "metadata": {},
   "outputs": [
    {
     "data": {
      "text/html": [
       "<div>\n",
       "<style scoped>\n",
       "    .dataframe tbody tr th:only-of-type {\n",
       "        vertical-align: middle;\n",
       "    }\n",
       "\n",
       "    .dataframe tbody tr th {\n",
       "        vertical-align: top;\n",
       "    }\n",
       "\n",
       "    .dataframe thead th {\n",
       "        text-align: right;\n",
       "    }\n",
       "</style>\n",
       "<table border=\"1\" class=\"dataframe\">\n",
       "  <thead>\n",
       "    <tr style=\"text-align: right;\">\n",
       "      <th></th>\n",
       "      <th>orderId</th>\n",
       "      <th>userId</th>\n",
       "      <th>date</th>\n",
       "      <th>revenue</th>\n",
       "      <th>group</th>\n",
       "    </tr>\n",
       "  </thead>\n",
       "  <tbody>\n",
       "    <tr>\n",
       "      <th>0</th>\n",
       "      <td>3667963787</td>\n",
       "      <td>3312258926</td>\n",
       "      <td>2019-08-15</td>\n",
       "      <td>1650</td>\n",
       "      <td>B</td>\n",
       "    </tr>\n",
       "    <tr>\n",
       "      <th>1</th>\n",
       "      <td>2804400009</td>\n",
       "      <td>3642806036</td>\n",
       "      <td>2019-08-15</td>\n",
       "      <td>730</td>\n",
       "      <td>B</td>\n",
       "    </tr>\n",
       "    <tr>\n",
       "      <th>2</th>\n",
       "      <td>2961555356</td>\n",
       "      <td>4069496402</td>\n",
       "      <td>2019-08-15</td>\n",
       "      <td>400</td>\n",
       "      <td>A</td>\n",
       "    </tr>\n",
       "    <tr>\n",
       "      <th>3</th>\n",
       "      <td>3797467345</td>\n",
       "      <td>1196621759</td>\n",
       "      <td>2019-08-15</td>\n",
       "      <td>9759</td>\n",
       "      <td>B</td>\n",
       "    </tr>\n",
       "    <tr>\n",
       "      <th>4</th>\n",
       "      <td>2282983706</td>\n",
       "      <td>2322279887</td>\n",
       "      <td>2019-08-15</td>\n",
       "      <td>2308</td>\n",
       "      <td>B</td>\n",
       "    </tr>\n",
       "  </tbody>\n",
       "</table>\n",
       "</div>"
      ],
      "text/plain": [
       "      orderId      userId       date  revenue group\n",
       "0  3667963787  3312258926 2019-08-15     1650     B\n",
       "1  2804400009  3642806036 2019-08-15      730     B\n",
       "2  2961555356  4069496402 2019-08-15      400     A\n",
       "3  3797467345  1196621759 2019-08-15     9759     B\n",
       "4  2282983706  2322279887 2019-08-15     2308     B"
      ]
     },
     "execution_count": 22,
     "metadata": {},
     "output_type": "execute_result"
    }
   ],
   "source": [
    "orders.head()"
   ]
  },
  {
   "cell_type": "markdown",
   "metadata": {},
   "source": [
    "## Построим график кумулятивной выручки по группам"
   ]
  },
  {
   "cell_type": "code",
   "execution_count": 23,
   "metadata": {},
   "outputs": [],
   "source": [
    "# Необходимые библиотеки для исследования.\n",
    "import pandas as pd                             # для анализа данных\n",
    "import numpy as np                              # для математических вычислений\n",
    "\n",
    "import seaborn as sns                           # для визуализации данных\n",
    "from matplotlib import pyplot as plt            # для визуализации данных\n",
    "%matplotlib inline\n",
    "\n",
    "import datetime as dt                           # для преобразования к типу данных\n",
    "from datetime import datetime      \n",
    "import scipy.stats as stats                     # для высокоуровневых математических вычислений\n",
    "from scipy import stats as st  \n",
    "import math\n",
    "\n",
    "import warnings                                 # для предупреждений в программе \n",
    "warnings.filterwarnings('ignore')               # фильтр предупреждений\n",
    "\n",
    "from plotly.offline import download_plotlyjs, init_notebook_mode, plot, iplot\n",
    "import plotly.graph_objs as go"
   ]
  },
  {
   "cell_type": "markdown",
   "metadata": {},
   "source": [
    "Создадим массив уникальных пар значений дат и групп теста методом drop_duplicates(): /"
   ]
  },
  {
   "cell_type": "code",
   "execution_count": 24,
   "metadata": {},
   "outputs": [],
   "source": [
    "datesGroups = orders[['date','group']].drop_duplicates() "
   ]
  },
  {
   "cell_type": "markdown",
   "metadata": {},
   "source": [
    "Объявим переменную orders_aggregated, содержащую:\n",
    "\n",
    "дату;\n",
    "группу A/B-теста;\n",
    "число уникальных заказов в группе теста по указанную дату включительно;\n",
    "число уникальных пользователей, совершивших хотя бы 1 заказ в группе теста по указанную дату включительно;\n",
    "суммарную выручку заказов в группе теста по указанную дату включительно"
   ]
  },
  {
   "cell_type": "code",
   "execution_count": 25,
   "metadata": {},
   "outputs": [],
   "source": [
    "ordersAggregated = datesGroups.apply(lambda x: orders[np.logical_and(orders['date'] <= x['date'], orders['group'] == x['group'])]\\\n",
    ".agg({'date' : 'max', 'group' : 'max', 'orderId' : 'nunique', 'userId' : 'nunique', 'revenue' : 'sum'}), axis=1).sort_values(by=['date','group']) "
   ]
  },
  {
   "cell_type": "code",
   "execution_count": 26,
   "metadata": {},
   "outputs": [
    {
     "data": {
      "text/html": [
       "<div>\n",
       "<style scoped>\n",
       "    .dataframe tbody tr th:only-of-type {\n",
       "        vertical-align: middle;\n",
       "    }\n",
       "\n",
       "    .dataframe tbody tr th {\n",
       "        vertical-align: top;\n",
       "    }\n",
       "\n",
       "    .dataframe thead th {\n",
       "        text-align: right;\n",
       "    }\n",
       "</style>\n",
       "<table border=\"1\" class=\"dataframe\">\n",
       "  <thead>\n",
       "    <tr style=\"text-align: right;\">\n",
       "      <th></th>\n",
       "      <th>date</th>\n",
       "      <th>group</th>\n",
       "      <th>orderId</th>\n",
       "      <th>userId</th>\n",
       "      <th>revenue</th>\n",
       "    </tr>\n",
       "  </thead>\n",
       "  <tbody>\n",
       "    <tr>\n",
       "      <th>55</th>\n",
       "      <td>2019-08-01</td>\n",
       "      <td>A</td>\n",
       "      <td>24</td>\n",
       "      <td>20</td>\n",
       "      <td>148579</td>\n",
       "    </tr>\n",
       "    <tr>\n",
       "      <th>66</th>\n",
       "      <td>2019-08-01</td>\n",
       "      <td>B</td>\n",
       "      <td>21</td>\n",
       "      <td>20</td>\n",
       "      <td>101217</td>\n",
       "    </tr>\n",
       "    <tr>\n",
       "      <th>175</th>\n",
       "      <td>2019-08-02</td>\n",
       "      <td>A</td>\n",
       "      <td>44</td>\n",
       "      <td>38</td>\n",
       "      <td>242401</td>\n",
       "    </tr>\n",
       "    <tr>\n",
       "      <th>173</th>\n",
       "      <td>2019-08-02</td>\n",
       "      <td>B</td>\n",
       "      <td>45</td>\n",
       "      <td>43</td>\n",
       "      <td>266748</td>\n",
       "    </tr>\n",
       "    <tr>\n",
       "      <th>291</th>\n",
       "      <td>2019-08-03</td>\n",
       "      <td>A</td>\n",
       "      <td>68</td>\n",
       "      <td>62</td>\n",
       "      <td>354874</td>\n",
       "    </tr>\n",
       "    <tr>\n",
       "      <th>...</th>\n",
       "      <td>...</td>\n",
       "      <td>...</td>\n",
       "      <td>...</td>\n",
       "      <td>...</td>\n",
       "      <td>...</td>\n",
       "    </tr>\n",
       "    <tr>\n",
       "      <th>496</th>\n",
       "      <td>2019-08-29</td>\n",
       "      <td>B</td>\n",
       "      <td>596</td>\n",
       "      <td>544</td>\n",
       "      <td>5559398</td>\n",
       "    </tr>\n",
       "    <tr>\n",
       "      <th>730</th>\n",
       "      <td>2019-08-30</td>\n",
       "      <td>A</td>\n",
       "      <td>545</td>\n",
       "      <td>493</td>\n",
       "      <td>4022970</td>\n",
       "    </tr>\n",
       "    <tr>\n",
       "      <th>690</th>\n",
       "      <td>2019-08-30</td>\n",
       "      <td>B</td>\n",
       "      <td>620</td>\n",
       "      <td>567</td>\n",
       "      <td>5774631</td>\n",
       "    </tr>\n",
       "    <tr>\n",
       "      <th>958</th>\n",
       "      <td>2019-08-31</td>\n",
       "      <td>A</td>\n",
       "      <td>557</td>\n",
       "      <td>503</td>\n",
       "      <td>4084803</td>\n",
       "    </tr>\n",
       "    <tr>\n",
       "      <th>930</th>\n",
       "      <td>2019-08-31</td>\n",
       "      <td>B</td>\n",
       "      <td>640</td>\n",
       "      <td>586</td>\n",
       "      <td>5907760</td>\n",
       "    </tr>\n",
       "  </tbody>\n",
       "</table>\n",
       "<p>62 rows × 5 columns</p>\n",
       "</div>"
      ],
      "text/plain": [
       "          date group  orderId  userId  revenue\n",
       "55  2019-08-01     A       24      20   148579\n",
       "66  2019-08-01     B       21      20   101217\n",
       "175 2019-08-02     A       44      38   242401\n",
       "173 2019-08-02     B       45      43   266748\n",
       "291 2019-08-03     A       68      62   354874\n",
       "..         ...   ...      ...     ...      ...\n",
       "496 2019-08-29     B      596     544  5559398\n",
       "730 2019-08-30     A      545     493  4022970\n",
       "690 2019-08-30     B      620     567  5774631\n",
       "958 2019-08-31     A      557     503  4084803\n",
       "930 2019-08-31     B      640     586  5907760\n",
       "\n",
       "[62 rows x 5 columns]"
      ]
     },
     "metadata": {},
     "output_type": "display_data"
    }
   ],
   "source": [
    "display(ordersAggregated)"
   ]
  },
  {
   "cell_type": "markdown",
   "metadata": {},
   "source": [
    "Объявим переменную visitors_aggregated, содержащую:\n",
    "\n",
    "дату;\n",
    "группу A/B-теста;\n",
    "количество уникальных посетителей в группе теста по указанную дату включительно"
   ]
  },
  {
   "cell_type": "code",
   "execution_count": 27,
   "metadata": {},
   "outputs": [],
   "source": [
    "visitorsAggregated = datesGroups.apply(lambda x: visitors[np.logical_and(visitors['date'] <= x['date'], visitors['group'] == x['group'])].agg({'date' : 'max', 'group' : 'max', 'visitors' : 'sum'}), axis=1).sort_values(by=['date','group']) "
   ]
  },
  {
   "cell_type": "code",
   "execution_count": 28,
   "metadata": {},
   "outputs": [
    {
     "name": "stdout",
     "output_type": "stream",
     "text": [
      "        date group  orders  buyers  revenue  visitors\n",
      "0 2019-08-01     A      24      20   148579       719\n",
      "1 2019-08-01     B      21      20   101217       713\n",
      "2 2019-08-02     A      44      38   242401      1338\n",
      "3 2019-08-02     B      45      43   266748      1294\n",
      "4 2019-08-03     A      68      62   354874      1845\n"
     ]
    }
   ],
   "source": [
    "# создаем массив уникальных пар значений дат и групп теста\n",
    "datesGroups = orders[['date','group']].drop_duplicates()\n",
    "\n",
    "# получаем агрегированные кумулятивные по дням данные о заказах \n",
    "ordersAggregated = datesGroups.apply(lambda x: orders[np.logical_and(orders['date'] <= x['date'], orders['group'] == x['group'])].agg({'date' : 'max', 'group' : 'max', 'orderId' : 'nunique', 'userId' : 'nunique', 'revenue' : 'sum'}), axis=1).sort_values(by=['date','group'])\n",
    "\n",
    "# получаем агрегированные кумулятивные по дням данные о посетителях интернет-магазина \n",
    "visitorsAggregated = datesGroups.apply(lambda x: visitors[np.logical_and(visitors['date'] <= x['date'], visitors['group'] == x['group'])].agg({'date' : 'max', 'group' : 'max', 'visitors' : 'sum'}), axis=1).sort_values(by=['date','group'])\n",
    "\n",
    "# объединяем кумулятивные данные в одной таблице и присваиваем ее столбцам понятные названия\n",
    "cumulativeData = ordersAggregated.merge(visitorsAggregated, left_on=['date', 'group'], right_on=['date', 'group'])\n",
    "cumulativeData.columns = ['date', 'group', 'orders', 'buyers', 'revenue', 'visitors']\n",
    "\n",
    "print(cumulativeData.head(5)) "
   ]
  },
  {
   "cell_type": "code",
   "execution_count": 29,
   "metadata": {},
   "outputs": [
    {
     "data": {
      "image/png": "[encoded data removed]",
      "text/plain": [
       "<Figure size 1440x432 with 1 Axes>"
      ]
     },
     "metadata": {
      "needs_background": "light"
     },
     "output_type": "display_data"
    }
   ],
   "source": [
    "# датафрейм с кумулятивным количеством заказов и кумулятивной выручкой по дням в группе А\n",
    "cumulativeRevenueA = cumulativeData[cumulativeData['group']=='A'][['date','revenue', 'orders']]\n",
    "\n",
    "# датафрейм с кумулятивным количеством заказов и кумулятивной выручкой по дням в группе B\n",
    "cumulativeRevenueB = cumulativeData[cumulativeData['group']=='B'][['date','revenue', 'orders']]\n",
    "\n",
    "plt.figure(figsize=(20,6))\n",
    "plt.xticks(rotation=45)\n",
    "# Строим график выручки группы А\n",
    "plt.plot(cumulativeRevenueA['date'],cumulativeRevenueA['revenue'], label='A')\n",
    "\n",
    "# Строим график выручки группы B\n",
    "plt.plot(cumulativeRevenueB['date'], cumulativeRevenueB['revenue'], label='B')\n",
    "plt.title('График кумулятивной выручки по группам', size=14)\n",
    "plt.xlabel(\"Даты\")\n",
    "plt.ylabel(\"Выручка\")\n",
    "plt.legend()\n",
    "plt.show()"
   ]
  },
  {
   "cell_type": "markdown",
   "metadata": {},
   "source": [
    "С самого начала теста увеличение выручки сегментов шло равномерно с небольшим перевесом сторону сегмента В до момента резкого скачка выручки сегмента В 2019-08-18.\n",
    "\n",
    "Это может быть вызвано аномальными значениями, которые влияют на результаты."
   ]
  },
  {
   "cell_type": "markdown",
   "metadata": {},
   "source": [
    "## Построим график кумулятивного среднего чека по группам. "
   ]
  },
  {
   "cell_type": "markdown",
   "metadata": {},
   "source": [
    "Разделим кумулятивную выручку на кумулятивное число заказов:"
   ]
  },
  {
   "cell_type": "code",
   "execution_count": 30,
   "metadata": {},
   "outputs": [
    {
     "data": {
      "text/plain": [
       "<matplotlib.legend.Legend at 0x7f4381c7df40>"
      ]
     },
     "execution_count": 30,
     "metadata": {},
     "output_type": "execute_result"
    },
    {
     "data": {
      "image/png": "[encoded data removed]",
      "text/plain": [
       "<Figure size 1080x432 with 1 Axes>"
      ]
     },
     "metadata": {
      "needs_background": "light"
     },
     "output_type": "display_data"
    }
   ],
   "source": [
    "plt.figure(figsize=(15,6))\n",
    "plt.plot(cumulativeRevenueA['date'], cumulativeRevenueA['revenue']/cumulativeRevenueA['orders'], label='A')\n",
    "plt.plot(cumulativeRevenueB['date'], cumulativeRevenueB['revenue']/cumulativeRevenueB['orders'], label='B')\n",
    "plt.title('График кумулятивного среднего чека по группам', size=14)\n",
    "plt.xlabel(\"Даты\")\n",
    "plt.ylabel(\"Средний чек\")\n",
    "plt.legend() "
   ]
  },
  {
   "cell_type": "markdown",
   "metadata": {},
   "source": [
    "Кумулятивное значение среднего чека сегмента В сильно также выросло 2019-08-18 после чего наблюдается небольшое снижение.\n",
    "\n",
    "Скорее всего, принимать решение по этой метрике рано. Требуется дополнительный анализ выбросов, которые могут сильно искажать результаты."
   ]
  },
  {
   "cell_type": "markdown",
   "metadata": {},
   "source": [
    "## Построим график относительного изменения кумулятивного среднего чека группы B к группе A"
   ]
  },
  {
   "cell_type": "code",
   "execution_count": 31,
   "metadata": {},
   "outputs": [
    {
     "data": {
      "text/plain": [
       "<matplotlib.lines.Line2D at 0x7f4379b2baf0>"
      ]
     },
     "execution_count": 31,
     "metadata": {},
     "output_type": "execute_result"
    },
    {
     "data": {
      "image/png": "[encoded data removed]",
      "text/plain": [
       "<Figure size 1080x432 with 1 Axes>"
      ]
     },
     "metadata": {
      "needs_background": "light"
     },
     "output_type": "display_data"
    }
   ],
   "source": [
    "# собираем данные в одном датафрейме\n",
    "mergedCumulativeRevenue = cumulativeRevenueA.merge(cumulativeRevenueB, left_on='date', right_on='date', how='left', suffixes=['A', 'B'])\n",
    "\n",
    "# cтроим отношение средних чеков\n",
    "plt.figure(figsize=(15,6))\n",
    "plt.plot(mergedCumulativeRevenue['date'], (mergedCumulativeRevenue['revenueB']/mergedCumulativeRevenue['ordersB'])/(mergedCumulativeRevenue['revenueA']/mergedCumulativeRevenue['ordersA'])-1)\n",
    "\n",
    "# добавляем ось X\n",
    "plt.axhline(y=0, color='red', linestyle='--') "
   ]
  },
  {
   "cell_type": "markdown",
   "metadata": {},
   "source": [
    "В нескольких точках график различия между сегментами резко «скачет». Где-то могли спрятаться крупные заказы и выбросы, найдем их позже."
   ]
  },
  {
   "cell_type": "markdown",
   "metadata": {},
   "source": [
    "## Построим график кумулятивного среднего количества заказов на посетителя по группам"
   ]
  },
  {
   "cell_type": "code",
   "execution_count": 32,
   "metadata": {},
   "outputs": [
    {
     "data": {
      "image/png": "[encoded data removed]",
      "text/plain": [
       "<Figure size 1080x504 with 1 Axes>"
      ]
     },
     "metadata": {
      "needs_background": "light"
     },
     "output_type": "display_data"
    }
   ],
   "source": [
    "# считаем кумулятивную среднего количества заказов на посетителя по группам\n",
    "cumulativeData['conversion'] = cumulativeData['orders']/cumulativeData['visitors']\n",
    "\n",
    "# отделяем данные по группе A\n",
    "cumulativeDataA = cumulativeData[cumulativeData['group']=='A']\n",
    "\n",
    "# отделяем данные по группе B\n",
    "cumulativeDataB = cumulativeData[cumulativeData['group']=='B']\n",
    "\n",
    "# строим графики\n",
    "plt.figure(figsize=(15, 7))\n",
    "plt.plot(cumulativeDataA['date'], cumulativeDataA['conversion'], label='A')\n",
    "plt.plot(cumulativeDataB['date'], cumulativeDataB['conversion'], label='B')\n",
    "plt.axis([dt.datetime(2019, 8, 1), dt.datetime(2019, 9, 1), 0.028, 0.038])\n",
    "plt.title('График кумулятивного среднего количества заказов на посетителя по группам')\n",
    "plt.xlabel('Дата')\n",
    "plt.ylabel('среднее количество заказов на посетителя')\n",
    "plt.legend()\n",
    "plt.grid()\n",
    "plt.show()"
   ]
  },
  {
   "cell_type": "markdown",
   "metadata": {},
   "source": [
    "В начале теста данный показатель был выше для группы А, но затем группа В \"обогнала\" группу А и зафиксировала отрыв до конца теста."
   ]
  },
  {
   "cell_type": "code",
   "execution_count": 33,
   "metadata": {},
   "outputs": [
    {
     "data": {
      "text/html": [
       "<div>\n",
       "<style scoped>\n",
       "    .dataframe tbody tr th:only-of-type {\n",
       "        vertical-align: middle;\n",
       "    }\n",
       "\n",
       "    .dataframe tbody tr th {\n",
       "        vertical-align: top;\n",
       "    }\n",
       "\n",
       "    .dataframe thead th {\n",
       "        text-align: right;\n",
       "    }\n",
       "</style>\n",
       "<table border=\"1\" class=\"dataframe\">\n",
       "  <thead>\n",
       "    <tr style=\"text-align: right;\">\n",
       "      <th></th>\n",
       "      <th>date</th>\n",
       "      <th>group</th>\n",
       "      <th>orders</th>\n",
       "      <th>buyers</th>\n",
       "      <th>revenue</th>\n",
       "      <th>visitors</th>\n",
       "      <th>conversion</th>\n",
       "    </tr>\n",
       "  </thead>\n",
       "  <tbody>\n",
       "    <tr>\n",
       "      <th>0</th>\n",
       "      <td>2019-08-01</td>\n",
       "      <td>A</td>\n",
       "      <td>24</td>\n",
       "      <td>20</td>\n",
       "      <td>148579</td>\n",
       "      <td>719</td>\n",
       "      <td>0.033380</td>\n",
       "    </tr>\n",
       "    <tr>\n",
       "      <th>1</th>\n",
       "      <td>2019-08-01</td>\n",
       "      <td>B</td>\n",
       "      <td>21</td>\n",
       "      <td>20</td>\n",
       "      <td>101217</td>\n",
       "      <td>713</td>\n",
       "      <td>0.029453</td>\n",
       "    </tr>\n",
       "    <tr>\n",
       "      <th>2</th>\n",
       "      <td>2019-08-02</td>\n",
       "      <td>A</td>\n",
       "      <td>44</td>\n",
       "      <td>38</td>\n",
       "      <td>242401</td>\n",
       "      <td>1338</td>\n",
       "      <td>0.032885</td>\n",
       "    </tr>\n",
       "    <tr>\n",
       "      <th>3</th>\n",
       "      <td>2019-08-02</td>\n",
       "      <td>B</td>\n",
       "      <td>45</td>\n",
       "      <td>43</td>\n",
       "      <td>266748</td>\n",
       "      <td>1294</td>\n",
       "      <td>0.034776</td>\n",
       "    </tr>\n",
       "    <tr>\n",
       "      <th>4</th>\n",
       "      <td>2019-08-03</td>\n",
       "      <td>A</td>\n",
       "      <td>68</td>\n",
       "      <td>62</td>\n",
       "      <td>354874</td>\n",
       "      <td>1845</td>\n",
       "      <td>0.036856</td>\n",
       "    </tr>\n",
       "    <tr>\n",
       "      <th>...</th>\n",
       "      <td>...</td>\n",
       "      <td>...</td>\n",
       "      <td>...</td>\n",
       "      <td>...</td>\n",
       "      <td>...</td>\n",
       "      <td>...</td>\n",
       "      <td>...</td>\n",
       "    </tr>\n",
       "    <tr>\n",
       "      <th>57</th>\n",
       "      <td>2019-08-29</td>\n",
       "      <td>B</td>\n",
       "      <td>596</td>\n",
       "      <td>544</td>\n",
       "      <td>5559398</td>\n",
       "      <td>17708</td>\n",
       "      <td>0.033657</td>\n",
       "    </tr>\n",
       "    <tr>\n",
       "      <th>58</th>\n",
       "      <td>2019-08-30</td>\n",
       "      <td>A</td>\n",
       "      <td>545</td>\n",
       "      <td>493</td>\n",
       "      <td>4022970</td>\n",
       "      <td>18037</td>\n",
       "      <td>0.030216</td>\n",
       "    </tr>\n",
       "    <tr>\n",
       "      <th>59</th>\n",
       "      <td>2019-08-30</td>\n",
       "      <td>B</td>\n",
       "      <td>620</td>\n",
       "      <td>567</td>\n",
       "      <td>5774631</td>\n",
       "      <td>18198</td>\n",
       "      <td>0.034070</td>\n",
       "    </tr>\n",
       "    <tr>\n",
       "      <th>60</th>\n",
       "      <td>2019-08-31</td>\n",
       "      <td>A</td>\n",
       "      <td>557</td>\n",
       "      <td>503</td>\n",
       "      <td>4084803</td>\n",
       "      <td>18736</td>\n",
       "      <td>0.029729</td>\n",
       "    </tr>\n",
       "    <tr>\n",
       "      <th>61</th>\n",
       "      <td>2019-08-31</td>\n",
       "      <td>B</td>\n",
       "      <td>640</td>\n",
       "      <td>586</td>\n",
       "      <td>5907760</td>\n",
       "      <td>18916</td>\n",
       "      <td>0.033834</td>\n",
       "    </tr>\n",
       "  </tbody>\n",
       "</table>\n",
       "<p>62 rows × 7 columns</p>\n",
       "</div>"
      ],
      "text/plain": [
       "         date group  orders  buyers  revenue  visitors  conversion\n",
       "0  2019-08-01     A      24      20   148579       719    0.033380\n",
       "1  2019-08-01     B      21      20   101217       713    0.029453\n",
       "2  2019-08-02     A      44      38   242401      1338    0.032885\n",
       "3  2019-08-02     B      45      43   266748      1294    0.034776\n",
       "4  2019-08-03     A      68      62   354874      1845    0.036856\n",
       "..        ...   ...     ...     ...      ...       ...         ...\n",
       "57 2019-08-29     B     596     544  5559398     17708    0.033657\n",
       "58 2019-08-30     A     545     493  4022970     18037    0.030216\n",
       "59 2019-08-30     B     620     567  5774631     18198    0.034070\n",
       "60 2019-08-31     A     557     503  4084803     18736    0.029729\n",
       "61 2019-08-31     B     640     586  5907760     18916    0.033834\n",
       "\n",
       "[62 rows x 7 columns]"
      ]
     },
     "metadata": {},
     "output_type": "display_data"
    }
   ],
   "source": [
    "display(cumulativeData)"
   ]
  },
  {
   "cell_type": "markdown",
   "metadata": {},
   "source": [
    "## Построим график относительного изменения кумулятивного среднего количества заказов на посетителя группы B к группе A."
   ]
  },
  {
   "cell_type": "code",
   "execution_count": 34,
   "metadata": {},
   "outputs": [
    {
     "data": {
      "image/png": "[encoded data removed]",
      "text/plain": [
       "<Figure size 1080x720 with 1 Axes>"
      ]
     },
     "metadata": {
      "needs_background": "light"
     },
     "output_type": "display_data"
    }
   ],
   "source": [
    "mergedCumulativeConversions = cumulativeDataA[['date','conversion']].merge(cumulativeDataB[['date','conversion']], left_on='date', right_on='date', how='left', suffixes=['A', 'B'])\n",
    "#строим график\n",
    "plt.figure(figsize=(15, 10))\n",
    "plt.plot(mergedCumulativeConversions['date'], mergedCumulativeConversions['conversionB']/mergedCumulativeConversions['conversionA']-1, label=\"Относительный прирост конверсии группы B относительно группы A\")\n",
    "# добавляем оси\n",
    "plt.axhline(y=0, color='black', linestyle='--')\n",
    "plt.axhline(y=0.15, color='grey', linestyle='--')\n",
    "plt.title('График относительного изменения кумулятивного среднего количества заказов на посетителя группы B к группе A')\n",
    "plt.xlabel('Дата')\n",
    "plt.ylabel('Среднее количество заказов на посетителя')\n",
    "plt.legend()\n",
    "plt.grid()\n",
    "plt.show()\n"
   ]
  },
  {
   "cell_type": "markdown",
   "metadata": {},
   "source": [
    "По графику видно, что группа B выходит вперед после 5-го дня теста и лидирует с преимуществом примерно 15% до конца теста."
   ]
  },
  {
   "cell_type": "markdown",
   "metadata": {},
   "source": [
    "## Построим точечный график количества заказов по пользователям."
   ]
  },
  {
   "cell_type": "code",
   "execution_count": 35,
   "metadata": {},
   "outputs": [
    {
     "data": {
      "text/html": [
       "<div>\n",
       "<style scoped>\n",
       "    .dataframe tbody tr th:only-of-type {\n",
       "        vertical-align: middle;\n",
       "    }\n",
       "\n",
       "    .dataframe tbody tr th {\n",
       "        vertical-align: top;\n",
       "    }\n",
       "\n",
       "    .dataframe thead th {\n",
       "        text-align: right;\n",
       "    }\n",
       "</style>\n",
       "<table border=\"1\" class=\"dataframe\">\n",
       "  <thead>\n",
       "    <tr style=\"text-align: right;\">\n",
       "      <th></th>\n",
       "      <th>orderId</th>\n",
       "      <th>userId</th>\n",
       "      <th>date</th>\n",
       "      <th>revenue</th>\n",
       "      <th>group</th>\n",
       "    </tr>\n",
       "  </thead>\n",
       "  <tbody>\n",
       "    <tr>\n",
       "      <th>0</th>\n",
       "      <td>3667963787</td>\n",
       "      <td>3312258926</td>\n",
       "      <td>2019-08-15</td>\n",
       "      <td>1650</td>\n",
       "      <td>B</td>\n",
       "    </tr>\n",
       "    <tr>\n",
       "      <th>1</th>\n",
       "      <td>2804400009</td>\n",
       "      <td>3642806036</td>\n",
       "      <td>2019-08-15</td>\n",
       "      <td>730</td>\n",
       "      <td>B</td>\n",
       "    </tr>\n",
       "    <tr>\n",
       "      <th>2</th>\n",
       "      <td>2961555356</td>\n",
       "      <td>4069496402</td>\n",
       "      <td>2019-08-15</td>\n",
       "      <td>400</td>\n",
       "      <td>A</td>\n",
       "    </tr>\n",
       "    <tr>\n",
       "      <th>3</th>\n",
       "      <td>3797467345</td>\n",
       "      <td>1196621759</td>\n",
       "      <td>2019-08-15</td>\n",
       "      <td>9759</td>\n",
       "      <td>B</td>\n",
       "    </tr>\n",
       "    <tr>\n",
       "      <th>4</th>\n",
       "      <td>2282983706</td>\n",
       "      <td>2322279887</td>\n",
       "      <td>2019-08-15</td>\n",
       "      <td>2308</td>\n",
       "      <td>B</td>\n",
       "    </tr>\n",
       "    <tr>\n",
       "      <th>...</th>\n",
       "      <td>...</td>\n",
       "      <td>...</td>\n",
       "      <td>...</td>\n",
       "      <td>...</td>\n",
       "      <td>...</td>\n",
       "    </tr>\n",
       "    <tr>\n",
       "      <th>1192</th>\n",
       "      <td>2662137336</td>\n",
       "      <td>3733762160</td>\n",
       "      <td>2019-08-14</td>\n",
       "      <td>6490</td>\n",
       "      <td>B</td>\n",
       "    </tr>\n",
       "    <tr>\n",
       "      <th>1193</th>\n",
       "      <td>2203539145</td>\n",
       "      <td>370388673</td>\n",
       "      <td>2019-08-14</td>\n",
       "      <td>3190</td>\n",
       "      <td>A</td>\n",
       "    </tr>\n",
       "    <tr>\n",
       "      <th>1194</th>\n",
       "      <td>1807773912</td>\n",
       "      <td>573423106</td>\n",
       "      <td>2019-08-14</td>\n",
       "      <td>10550</td>\n",
       "      <td>A</td>\n",
       "    </tr>\n",
       "    <tr>\n",
       "      <th>1195</th>\n",
       "      <td>1947021204</td>\n",
       "      <td>1614305549</td>\n",
       "      <td>2019-08-14</td>\n",
       "      <td>100</td>\n",
       "      <td>A</td>\n",
       "    </tr>\n",
       "    <tr>\n",
       "      <th>1196</th>\n",
       "      <td>3936777065</td>\n",
       "      <td>2108080724</td>\n",
       "      <td>2019-08-15</td>\n",
       "      <td>202740</td>\n",
       "      <td>B</td>\n",
       "    </tr>\n",
       "  </tbody>\n",
       "</table>\n",
       "<p>1197 rows × 5 columns</p>\n",
       "</div>"
      ],
      "text/plain": [
       "         orderId      userId       date  revenue group\n",
       "0     3667963787  3312258926 2019-08-15     1650     B\n",
       "1     2804400009  3642806036 2019-08-15      730     B\n",
       "2     2961555356  4069496402 2019-08-15      400     A\n",
       "3     3797467345  1196621759 2019-08-15     9759     B\n",
       "4     2282983706  2322279887 2019-08-15     2308     B\n",
       "...          ...         ...        ...      ...   ...\n",
       "1192  2662137336  3733762160 2019-08-14     6490     B\n",
       "1193  2203539145   370388673 2019-08-14     3190     A\n",
       "1194  1807773912   573423106 2019-08-14    10550     A\n",
       "1195  1947021204  1614305549 2019-08-14      100     A\n",
       "1196  3936777065  2108080724 2019-08-15   202740     B\n",
       "\n",
       "[1197 rows x 5 columns]"
      ]
     },
     "metadata": {},
     "output_type": "display_data"
    }
   ],
   "source": [
    "display(orders)"
   ]
  },
  {
   "cell_type": "code",
   "execution_count": 36,
   "metadata": {},
   "outputs": [
    {
     "name": "stdout",
     "output_type": "stream",
     "text": [
      "          userId  orders\n",
      "1023  4256040402      11\n",
      "591   2458001652      11\n",
      "569   2378935119       9\n",
      "487   2038680547       8\n",
      "44     199603092       5\n"
     ]
    },
    {
     "data": {
      "image/png": "[encoded data removed]",
      "text/plain": [
       "<Figure size 432x288 with 1 Axes>"
      ]
     },
     "metadata": {
      "needs_background": "light"
     },
     "output_type": "display_data"
    }
   ],
   "source": [
    "orders_per_user = orders.drop(['group', 'revenue', 'date'], axis=1).groupby('userId', as_index=False).agg({'orderId' : 'nunique'})\n",
    "orders_per_user.columns = ['userId','orders']\n",
    "\n",
    "print(orders_per_user.sort_values(by='orders',ascending=False).head())\n",
    "\n",
    "\n",
    "x_values = pd.Series(range(0,len(orders_per_user)))\n",
    "plt.scatter(x_values, orders_per_user['orders']);"
   ]
  },
  {
   "cell_type": "markdown",
   "metadata": {},
   "source": [
    "Исходя из графика, вполне можем сказать, что пользователей, которые совершают более двух заказов очень мало, они вполне могут быть выбросами, чтобы сказать точнее, посмотрим на перцентили."
   ]
  },
  {
   "cell_type": "markdown",
   "metadata": {},
   "source": [
    "## Посчитаем 95-й и 99-й перцентили количества заказов на пользователя, чтобы выбрать  границу для определения аномальных пользователей."
   ]
  },
  {
   "cell_type": "code",
   "execution_count": 37,
   "metadata": {},
   "outputs": [
    {
     "name": "stdout",
     "output_type": "stream",
     "text": [
      "[2. 4.]\n"
     ]
    }
   ],
   "source": [
    "print(np.percentile(orders_per_user['orders'], [ 95, 99]))"
   ]
  },
  {
   "cell_type": "markdown",
   "metadata": {},
   "source": [
    "Не более 5% пользователей совершали больше двух заказов. И не более 1% пользователей — больше четырёх заказов. Все, что за 99 перцентилем — аномально.\n",
    "\n",
    "Разумно выбрать 2 заказа на одного пользователя за верхнюю границу числа заказов, и отсеять аномальных пользователей по ней."
   ]
  },
  {
   "cell_type": "markdown",
   "metadata": {},
   "source": [
    "## Построим точечный график стоимостей заказов. "
   ]
  },
  {
   "cell_type": "code",
   "execution_count": 38,
   "metadata": {},
   "outputs": [
    {
     "data": {
      "text/plain": [
       "count    1.197000e+03\n",
       "mean     8.348006e+03\n",
       "std      3.919113e+04\n",
       "min      5.000000e+01\n",
       "25%      1.220000e+03\n",
       "50%      2.978000e+03\n",
       "75%      8.290000e+03\n",
       "max      1.294500e+06\n",
       "Name: revenue, dtype: float64"
      ]
     },
     "execution_count": 38,
     "metadata": {},
     "output_type": "execute_result"
    },
    {
     "data": {
      "image/png": "[encoded data removed]",
      "text/plain": [
       "<Figure size 432x288 with 1 Axes>"
      ]
     },
     "metadata": {
      "needs_background": "light"
     },
     "output_type": "display_data"
    }
   ],
   "source": [
    "x_values = pd.Series(range(0,len(orders['revenue'])))\n",
    "plt.ylabel('Стоимость заказа')\n",
    "plt.scatter(x_values, orders['revenue'])\n",
    "\n",
    "orders['revenue'].describe()"
   ]
  },
  {
   "cell_type": "code",
   "execution_count": 39,
   "metadata": {},
   "outputs": [
    {
     "data": {
      "text/plain": [
       "count    1.197000e+03\n",
       "mean     8.348006e+03\n",
       "std      3.919113e+04\n",
       "min      5.000000e+01\n",
       "25%      1.220000e+03\n",
       "50%      2.978000e+03\n",
       "75%      8.290000e+03\n",
       "max      1.294500e+06\n",
       "Name: revenue, dtype: float64"
      ]
     },
     "execution_count": 39,
     "metadata": {},
     "output_type": "execute_result"
    },
    {
     "data": {
      "image/png": "[encoded data removed]",
      "text/plain": [
       "<Figure size 432x288 with 1 Axes>"
      ]
     },
     "metadata": {
      "needs_background": "light"
     },
     "output_type": "display_data"
    }
   ],
   "source": [
    "x_values = pd.Series(range(0,len(orders['revenue'])))\n",
    "plt.ylabel('Стоимость заказа')\n",
    "plt.scatter(x_values, orders['revenue']) ;\n",
    "plt.ylim(0, 100000)\n",
    "orders['revenue'].describe()"
   ]
  },
  {
   "cell_type": "markdown",
   "metadata": {},
   "source": [
    "На взгляд предварительно можно сказать, что заказов дороже 50 000 очень мало. Но лучше в дополнение взглянуть на перцентили."
   ]
  },
  {
   "cell_type": "markdown",
   "metadata": {},
   "source": [
    "## Посчитаем 95-й и 99-й перцентили стоимости заказов"
   ]
  },
  {
   "cell_type": "code",
   "execution_count": 40,
   "metadata": {},
   "outputs": [
    {
     "name": "stdout",
     "output_type": "stream",
     "text": [
      "[28000.  58233.2]\n"
     ]
    }
   ],
   "source": [
    "print(np.percentile(orders['revenue'], [ 95, 99])) "
   ]
  },
  {
   "cell_type": "markdown",
   "metadata": {},
   "source": [
    "Не более 5 % заказов на сумму 28000, не более 1 % - 58233.2. Все, что за 95 перцентилем — аномально.\n",
    "\n",
    "Границу для определения аномальных заказов, выберем 28 000 рублей"
   ]
  },
  {
   "cell_type": "markdown",
   "metadata": {},
   "source": [
    "## Посчитаем статистическую значимость различий в среднем количестве заказов на посетителя между группами по «сырым» данным."
   ]
  },
  {
   "cell_type": "code",
   "execution_count": 41,
   "metadata": {},
   "outputs": [],
   "source": [
    "orders = orders.rename(columns = {'orderId':'order_id',\n",
    "                                 'userId':'user_id'})"
   ]
  },
  {
   "cell_type": "code",
   "execution_count": 42,
   "metadata": {},
   "outputs": [
    {
     "name": "stdout",
     "output_type": "stream",
     "text": [
      "        date  ordersPerDateA  revenuePerDateA  ordersPerDateB  \\\n",
      "0 2019-08-01              24           148579              21   \n",
      "1 2019-08-02              20            93822              24   \n",
      "2 2019-08-03              24           112473              16   \n",
      "3 2019-08-04              16            70825              17   \n",
      "4 2019-08-05              25           124218              23   \n",
      "\n",
      "   revenuePerDateB  ordersCummulativeA  revenueCummulativeA  \\\n",
      "0           101217                  24               148579   \n",
      "1           165531                  44               242401   \n",
      "2           114248                  68               354874   \n",
      "3           108571                  84               425699   \n",
      "4            92428                 109               549917   \n",
      "\n",
      "   ordersCummulativeB  revenueCummulativeB  visitorsPerDateA  \\\n",
      "0                  21               101217               719   \n",
      "1                  45               266748               619   \n",
      "2                  61               380996               507   \n",
      "3                  78               489567               717   \n",
      "4                 101               581995               756   \n",
      "\n",
      "   visitorsPerDateB  visitorsCummulativeA  visitorsCummulativeB  \n",
      "0               713                   719                   713  \n",
      "1               581                  1338                  1294  \n",
      "2               509                  1845                  1803  \n",
      "3               770                  2562                  2573  \n",
      "4               707                  3318                  3280  \n"
     ]
    }
   ],
   "source": [
    "# Изучим код и устройство таблицы data.\n",
    "visitorsADaily = visitors[visitors['group']=='A'][['date', 'visitors']]\n",
    "visitorsADaily.columns = ['date', 'visitorsPerDateA']\n",
    "\n",
    "visitorsACummulative = visitorsADaily.apply(lambda x: visitorsADaily[visitorsADaily['date'] <=x['date']]\\\n",
    "                                     .agg({'date' : 'max', 'visitorsPerDateA' : 'sum'}), axis=1)\n",
    "visitorsACummulative.columns = ['date', 'visitorsCummulativeA']\n",
    "\n",
    "visitorsBDaily = visitors[visitors['group']=='B'][['date', 'visitors']]\n",
    "visitorsBDaily.columns = ['date', 'visitorsPerDateB']\n",
    "\n",
    "visitorsBCummulative = visitorsBDaily.apply(lambda x: visitorsBDaily[visitorsBDaily['date'] <=x['date']]\\\n",
    "                                     .agg({'date' : 'max', 'visitorsPerDateB' : 'sum'}), axis=1)\n",
    "visitorsBCummulative.columns = ['date', 'visitorsCummulativeB']\n",
    "\n",
    "ordersADaily = orders[orders['group']=='A'][['date', 'order_id', 'user_id', 'revenue']].groupby('date', as_index=False)\\\n",
    "                                     .agg({'order_id' : pd.Series.nunique, 'revenue' : 'sum'})\n",
    "ordersADaily.columns = ['date', 'ordersPerDateA', 'revenuePerDateA']\n",
    "\n",
    "ordersACummulative = ordersADaily.apply(lambda x: ordersADaily[ordersADaily['date'] <= x['date']]\\\n",
    "                                 .agg({'date' : 'max', 'ordersPerDateA' : 'sum', 'revenuePerDateA' : 'sum'}), axis=1)\\\n",
    "                                 .sort_values(by=['date'])\n",
    "ordersACummulative.columns = ['date', 'ordersCummulativeA', 'revenueCummulativeA']\n",
    "\n",
    "ordersBDaily = orders[orders['group']=='B'][['date', 'order_id', 'user_id', 'revenue']].groupby('date', as_index=False)\\\n",
    "                                     .agg({'order_id' : pd.Series.nunique, 'revenue' : 'sum'})\n",
    "ordersBDaily.columns = ['date', 'ordersPerDateB', 'revenuePerDateB']\n",
    "\n",
    "ordersBCummulative = ordersBDaily.apply(lambda x: ordersBDaily[ordersBDaily['date'] <= x['date']]\\\n",
    "                                 .agg({'date' : 'max', 'ordersPerDateB' : 'sum', 'revenuePerDateB' : 'sum'}), axis=1)\\\n",
    "                                 .sort_values(by=['date'])\n",
    "ordersBCummulative.columns = ['date', 'ordersCummulativeB', 'revenueCummulativeB']\n",
    "\n",
    "data = ordersADaily.merge(ordersBDaily, left_on='date', right_on='date', how='left')\\\n",
    "                   .merge(ordersACummulative, left_on='date', right_on='date', how='left')\\\n",
    "                   .merge(ordersBCummulative, left_on='date', right_on='date', how='left')\\\n",
    "                   .merge(visitorsADaily, left_on='date', right_on='date', how='left')\\\n",
    "                   .merge(visitorsBDaily, left_on='date', right_on='date', how='left')\\\n",
    "                   .merge(visitorsACummulative, left_on='date', right_on='date', how='left')\\\n",
    "                   .merge(visitorsBCummulative, left_on='date', right_on='date', how='left')\n",
    "\n",
    "print(data.head())"
   ]
  },
  {
   "cell_type": "code",
   "execution_count": 43,
   "metadata": {},
   "outputs": [],
   "source": [
    "# Создадим переменные ordersByUsersA и ordersByUsersB со столбцами ['userid', 'orders']. \n",
    "# В них для пользователей, которые заказывали хотя бы 1 раз, укажем число совершённых заказов.\n",
    "ordersByUsersA = orders[orders['group']=='A'].groupby('user_id', as_index=False).agg({'order_id' : pd.Series.nunique})\n",
    "ordersByUsersA.columns = ['user_id', 'orders']\n",
    "\n",
    "ordersByUsersB = orders[orders['group']=='B'].groupby('user_id', as_index=False).agg({'order_id' : pd.Series.nunique})\n",
    "ordersByUsersB.columns = ['user_id', 'orders']"
   ]
  },
  {
   "cell_type": "code",
   "execution_count": 44,
   "metadata": {},
   "outputs": [],
   "source": [
    "# Объявим переменные sampleA и sampleB, в которых пользователям из разных групп будет соответствовать количество заказов. \n",
    "# Тем, кто ничего не заказал, будут соответствовать нули. Это нужно, чтобы подготовить выборки к проверке критерием \n",
    "sampleA = pd.concat([ordersByUsersA['orders'],pd.Series(0, index=np.arange(data['visitorsPerDateA'].sum() - len(ordersByUsersA['orders'])), name='orders')],axis=0)\n",
    "\n",
    "sampleB = pd.concat([ordersByUsersB['orders'],pd.Series(0, index=np.arange(data['visitorsPerDateB'].sum() - len(ordersByUsersB['orders'])), name='orders')],axis=0)"
   ]
  },
  {
   "cell_type": "code",
   "execution_count": 45,
   "metadata": {},
   "outputs": [
    {
     "name": "stdout",
     "output_type": "stream",
     "text": [
      "p-value нулевой гипотезы о равенстве конверсий в группах А и В: 0.017\n",
      "Относительный прирост конверсии группы B по отношению к группе A: 0.138\n"
     ]
    }
   ],
   "source": [
    "# Посчитаем статистическую значимость различия конверсии. Применим тест Манна-Уитни.\n",
    "# Выведем p-value для сравнения конверсии между группами. Округлим p-value до 3 знаков после запятой. \n",
    "# Вычислим и выведем относительное различие в конверсии между группами. Округлим до 3 знаков после запятой.\n",
    "print(\"p-value нулевой гипотезы о равенстве конверсий в группах А и В: {0:.3f}\".format(stats.mannwhitneyu(sampleA, sampleB)[1]))\n",
    "print(\"Относительный прирост конверсии группы B по отношению к группе A: {0:.3f}\".format(sampleB.mean()/sampleA.mean()-1)) "
   ]
  },
  {
   "cell_type": "markdown",
   "metadata": {},
   "source": [
    "Сформулируем нулевую и альтернативную гипотезы:\n",
    "\n",
    "Нулевая гипотеза H₀: Нет статистически значимых различий по конверсии между группами А и В по «сырым» данным\n",
    "\n",
    "Альтернативная гипотеза H₁: Есть статистически значимое различие по конверсии между группами А и В по «сырым» данным"
   ]
  },
  {
   "cell_type": "code",
   "execution_count": 46,
   "metadata": {},
   "outputs": [
    {
     "name": "stdout",
     "output_type": "stream",
     "text": [
      "p-значение: 0.016792355056752608\n",
      "Отвергаем нулевую гипотезу\n"
     ]
    }
   ],
   "source": [
    "# Выполним проверку гипотезы.\n",
    "\n",
    "alpha = 0.05 # критический уровень статистической значимости для формулирования двусторонних гипотез\n",
    "results = stats.mannwhitneyu(sampleA, sampleB)\n",
    "\n",
    "print('p-значение:', results.pvalue)\n",
    "\n",
    "if (results.pvalue < alpha):\n",
    "    print(\"Отвергаем нулевую гипотезу\")\n",
    "else:\n",
    "    print(\"Не получилось отвергнуть нулевую гипотезу\")"
   ]
  },
  {
   "cell_type": "markdown",
   "metadata": {},
   "source": [
    "Выводы\n",
    "\n",
    "Первое число p-value = 0.016 меньше 0,05. Анализ «сырых» данных сообщает, что в конверсии между группами есть статистически значимые различия в конверсии между группами."
   ]
  },
  {
   "cell_type": "markdown",
   "metadata": {},
   "source": [
    "## Посчитаем статистическую значимость различий в среднем чеке заказа между группами по «сырым» данным."
   ]
  },
  {
   "cell_type": "code",
   "execution_count": 47,
   "metadata": {},
   "outputs": [
    {
     "name": "stdout",
     "output_type": "stream",
     "text": [
      "p-value нулевой гипотезы о равенстве среднего чека в группах А и В: 0.729\n",
      "Относительное изменение среднего чека в группе B по отношению группы A: 0.259\n"
     ]
    }
   ],
   "source": [
    "# Чтобы рассчитать статистическую значимость различий в среднем чеке между сегментами,\n",
    "# передадим критерию mannwhitneyu() данные о выручке с заказов.\n",
    "print(\"p-value нулевой гипотезы о равенстве среднего чека в группах А и В: {0:.3f}\".format(\n",
    "    stats.mannwhitneyu(orders[orders['group']=='A']['revenue'], orders[orders['group']=='B']['revenue'])[1]))\n",
    "print(\"Относительное изменение среднего чека в группе B по отношению группы A: {0:.3f}\".format(\n",
    "    orders[orders['group']=='B']['revenue'].mean()/orders[orders['group']=='A']['revenue'].mean()-1)) "
   ]
  },
  {
   "cell_type": "markdown",
   "metadata": {},
   "source": [
    "Сформулируем нулевую и альтернативную гипотезы:\n",
    "\n",
    "Нулевая гипотеза H₀: Нет статистически значимых различий в среднем чеке между группами А и В по «сырым» данным\n",
    "\n",
    "Альтернативная гипотеза H₁: Есть статистически значимое различие в среднем чеке между группами А и В по «сырым» данным"
   ]
  },
  {
   "cell_type": "code",
   "execution_count": 48,
   "metadata": {},
   "outputs": [
    {
     "name": "stdout",
     "output_type": "stream",
     "text": [
      "p-значение: 0.7292909855432458\n",
      "Не получилось отвергнуть нулевую гипотезу\n"
     ]
    }
   ],
   "source": [
    "# Выполним проверку гипотезы.\n",
    "\n",
    "alpha = 0.05 # критический уровень статистической значимости для формулирования двусторонних гипотез\n",
    "results = stats.mannwhitneyu(orders[orders['group']=='A']['revenue'], orders[orders['group']=='B']['revenue'])\n",
    "\n",
    "print('p-значение:', results.pvalue)\n",
    "\n",
    "if (results.pvalue < alpha):\n",
    "    print(\"Отвергаем нулевую гипотезу\")\n",
    "else:\n",
    "    print(\"Не получилось отвергнуть нулевую гипотезу\")"
   ]
  },
  {
   "cell_type": "markdown",
   "metadata": {},
   "source": [
    "Выводы P-value = 0.729  больше 0,05. Значит, причин отвергать нулевую гипотезу и считать, что в среднем чеке есть различия, нет. То есть, статистически значимых различий в среднем чеке между группами нет.\n",
    "\n",
    " Средний чек группы B равен среднему чеку группы A (или не отличается или различия получены случайным образом) и он не может быть значительно выше среднего чека группы A."
   ]
  },
  {
   "cell_type": "markdown",
   "metadata": {},
   "source": [
    "## Посчитаем статистическую значимость различий в среднем количестве заказов на посетителя между группами по «очищенным» данным."
   ]
  },
  {
   "cell_type": "markdown",
   "metadata": {},
   "source": [
    "Приступаем к подготовке очищенных от аномалий данных.\n",
    "\n",
    "95-й и 99-й перцентили средних чеков равны 28 тыс и 58,233 тыс у.е.\n",
    "\n",
    "95-й и 99-й перцентили числа заказов на одного пользователя равны 2 и 4 заказам на пользователя.\n",
    "\n",
    "Примем за аномальных пользователей тех, кто потратил более 30 тыс, либо совершил 4 и более заказов.\n",
    "\n",
    "Удалять будем именно пользователей — сначала определим аномальные заказы. Затем пользователей, совершивших их, и добавим их в список аномальных."
   ]
  },
  {
   "cell_type": "code",
   "execution_count": 49,
   "metadata": {},
   "outputs": [
    {
     "data": {
      "text/html": [
       "<div>\n",
       "<style scoped>\n",
       "    .dataframe tbody tr th:only-of-type {\n",
       "        vertical-align: middle;\n",
       "    }\n",
       "\n",
       "    .dataframe tbody tr th {\n",
       "        vertical-align: top;\n",
       "    }\n",
       "\n",
       "    .dataframe thead th {\n",
       "        text-align: right;\n",
       "    }\n",
       "</style>\n",
       "<table border=\"1\" class=\"dataframe\">\n",
       "  <thead>\n",
       "    <tr style=\"text-align: right;\">\n",
       "      <th></th>\n",
       "      <th>user_id</th>\n",
       "      <th>orders</th>\n",
       "    </tr>\n",
       "  </thead>\n",
       "  <tbody>\n",
       "    <tr>\n",
       "      <th>0</th>\n",
       "      <td>8300375</td>\n",
       "      <td>1</td>\n",
       "    </tr>\n",
       "    <tr>\n",
       "      <th>1</th>\n",
       "      <td>11685486</td>\n",
       "      <td>1</td>\n",
       "    </tr>\n",
       "    <tr>\n",
       "      <th>2</th>\n",
       "      <td>54447517</td>\n",
       "      <td>1</td>\n",
       "    </tr>\n",
       "    <tr>\n",
       "      <th>3</th>\n",
       "      <td>66685450</td>\n",
       "      <td>1</td>\n",
       "    </tr>\n",
       "    <tr>\n",
       "      <th>4</th>\n",
       "      <td>78758296</td>\n",
       "      <td>1</td>\n",
       "    </tr>\n",
       "    <tr>\n",
       "      <th>...</th>\n",
       "      <td>...</td>\n",
       "      <td>...</td>\n",
       "    </tr>\n",
       "    <tr>\n",
       "      <th>498</th>\n",
       "      <td>4243832526</td>\n",
       "      <td>1</td>\n",
       "    </tr>\n",
       "    <tr>\n",
       "      <th>499</th>\n",
       "      <td>4256040402</td>\n",
       "      <td>7</td>\n",
       "    </tr>\n",
       "    <tr>\n",
       "      <th>500</th>\n",
       "      <td>4259830713</td>\n",
       "      <td>1</td>\n",
       "    </tr>\n",
       "    <tr>\n",
       "      <th>501</th>\n",
       "      <td>4266935830</td>\n",
       "      <td>1</td>\n",
       "    </tr>\n",
       "    <tr>\n",
       "      <th>502</th>\n",
       "      <td>4278982564</td>\n",
       "      <td>1</td>\n",
       "    </tr>\n",
       "  </tbody>\n",
       "</table>\n",
       "<p>503 rows × 2 columns</p>\n",
       "</div>"
      ],
      "text/plain": [
       "        user_id  orders\n",
       "0       8300375       1\n",
       "1      11685486       1\n",
       "2      54447517       1\n",
       "3      66685450       1\n",
       "4      78758296       1\n",
       "..          ...     ...\n",
       "498  4243832526       1\n",
       "499  4256040402       7\n",
       "500  4259830713       1\n",
       "501  4266935830       1\n",
       "502  4278982564       1\n",
       "\n",
       "[503 rows x 2 columns]"
      ]
     },
     "metadata": {},
     "output_type": "display_data"
    }
   ],
   "source": [
    "display(ordersByUsersA)"
   ]
  },
  {
   "cell_type": "code",
   "execution_count": 50,
   "metadata": {},
   "outputs": [],
   "source": [
    "usersWithManyOrders = pd.concat(\n",
    "    [\n",
    "        ordersByUsersA[ordersByUsersA['orders'] > 4]['user_id'],\n",
    "        ordersByUsersB[ordersByUsersB['orders'] > 4]['user_id'],\n",
    "    ],\n",
    "    axis=0,\n",
    ")\n",
    "usersWithExpensiveOrders = orders[orders['revenue'] > 30000]['user_id']\n",
    "abnormalUsers = (\n",
    "    pd.concat([usersWithManyOrders, usersWithExpensiveOrders], axis=0)\n",
    "    .drop_duplicates()\n",
    "    .sort_values()\n",
    ")"
   ]
  },
  {
   "cell_type": "markdown",
   "metadata": {},
   "source": [
    "Создадим переменные sampleAFiltered и sampleBFiltered, в которых сохраним очищенные данные о заказах — не включая аномальных пользователей. Выведем p-value для сравнения среднего между очищенными группами. Округлим p-value до трех знаков после запятой. Выведем относительный прирост среднего очищенной группы B, округлив до трёх знаков после запятой."
   ]
  },
  {
   "cell_type": "markdown",
   "metadata": {},
   "source": [
    "Сформулируем нулевую и альтернативную гипотезы:\n",
    "\n",
    "Нулевая гипотеза H₀: Нет статистически значимых различий в среднем количестве заказов на посетителя между группами по «очищенным» данным\n",
    "\n",
    "Альтернативная гипотеза H₁: Есть статистически значимое различие в среднем количестве заказов на посетителя между группами по «очищенным» данным"
   ]
  },
  {
   "cell_type": "code",
   "execution_count": 51,
   "metadata": {},
   "outputs": [
    {
     "name": "stdout",
     "output_type": "stream",
     "text": [
      "P-value: 0.019\n",
      "Относительные различия: 0.144\n"
     ]
    }
   ],
   "source": [
    "sampleAFiltered = pd.concat(\n",
    "    [\n",
    "        ordersByUsersA[\n",
    "            np.logical_not(ordersByUsersA['user_id'].isin(abnormalUsers))\n",
    "        ]['orders'],\n",
    "        pd.Series(\n",
    "            0,\n",
    "            index=np.arange(\n",
    "                data['visitorsPerDateA'].sum() - len(ordersByUsersA['orders'])\n",
    "            ),\n",
    "            name='orders',\n",
    "        ),\n",
    "    ],\n",
    "    axis=0,\n",
    ")\n",
    "\n",
    "sampleBFiltered = pd.concat(\n",
    "    [\n",
    "        ordersByUsersB[\n",
    "            np.logical_not(ordersByUsersB['user_id'].isin(abnormalUsers))\n",
    "        ]['orders'],\n",
    "        pd.Series(\n",
    "            0,\n",
    "            index=np.arange(\n",
    "                data['visitorsPerDateB'].sum() - len(ordersByUsersB['orders'])\n",
    "            ),\n",
    "            name='orders',\n",
    "        ),\n",
    "    ],\n",
    "    axis=0,\n",
    ") \n",
    "print('P-value:','{0:.3f}'.format(stats.mannwhitneyu(sampleAFiltered, sampleBFiltered)[1]))\n",
    "print('Относительные различия:','{0:.3f}'.format(sampleBFiltered.mean()/sampleAFiltered.mean()-1)) "
   ]
  },
  {
   "cell_type": "markdown",
   "metadata": {},
   "source": [
    "Как и в случае с сырым данными, статистическая значимость достигнута. "
   ]
  },
  {
   "cell_type": "markdown",
   "metadata": {},
   "source": [
    "## Посчитаем статистическую значимость различий в среднем чеке заказа между группами по «очищенным» данным"
   ]
  },
  {
   "cell_type": "markdown",
   "metadata": {},
   "source": [
    "Сформулируем нулевую и альтернативную гипотезы:\n",
    "\n",
    "Нулевая гипотеза H₀: Нет статистически значимых различий в среднем чеке заказа между группами по «очищенным» данным\n",
    "\n",
    "Альтернативная гипотеза H₁: Есть статистически значимое различие в среднем чеке заказа между группами по «очищенным» данным"
   ]
  },
  {
   "cell_type": "code",
   "execution_count": 52,
   "metadata": {},
   "outputs": [
    {
     "name": "stdout",
     "output_type": "stream",
     "text": [
      "P-value: 0.979\n",
      "Относительные различия: -0.017\n"
     ]
    }
   ],
   "source": [
    "print('P-value:',\n",
    "    '{0:.3f}'.format(\n",
    "        stats.mannwhitneyu(\n",
    "            orders[\n",
    "                np.logical_and(\n",
    "                    orders['group'] == 'A',\n",
    "                    np.logical_not(orders['user_id'].isin(abnormalUsers)),\n",
    "                )\n",
    "            ]['revenue'],\n",
    "            orders[\n",
    "                np.logical_and(\n",
    "                    orders['group'] == 'B',\n",
    "                    np.logical_not(orders['user_id'].isin(abnormalUsers)),\n",
    "                )\n",
    "            ]['revenue'],\n",
    "        )[1]\n",
    "    )\n",
    ")\n",
    "\n",
    "print('Относительные различия:',\n",
    "    \"{0:.3f}\".format(\n",
    "        orders[\n",
    "            np.logical_and(\n",
    "                orders['group'] == 'B',\n",
    "                np.logical_not(orders['user_id'].isin(abnormalUsers)),\n",
    "            )\n",
    "        ]['revenue'].mean()\n",
    "        / orders[\n",
    "            np.logical_and(\n",
    "                orders['group'] == 'A',\n",
    "                np.logical_not(orders['user_id'].isin(abnormalUsers)),\n",
    "            )\n",
    "        ]['revenue'].mean()\n",
    "        - 1\n",
    "    )\n",
    ") "
   ]
  },
  {
   "cell_type": "markdown",
   "metadata": {},
   "source": [
    "Значение p-value стало больше с 0.729 до 0.979, однако относительные различия уменьшились с 26% до 1,7%. Это означает, что в данных стало меньше шума."
   ]
  },
  {
   "cell_type": "markdown",
   "metadata": {},
   "source": [
    "# ВЫВОД\n",
    "Имеющиеся факты:\n",
    "\n",
    "Есть статистически значимое различие в среднем количестве заказов на посетителя между группами по «очищенным» данным и по \"сырым данным\".\n",
    "\n",
    "Нет статистически значимого различия в среднем чеке заказа между группами ни по «сырым», ни по данным после фильтрации аномалий;\n",
    "\n",
    "График различия среднего количества заказов на посетителя между группами сообщает, что результаты группы B лучше группы A на примерно 15%.\n",
    "\n",
    "График различия среднего чека говорит о том, что результаты группы B лучше группы А примерно на 20%.\n",
    "\n",
    "На основании фактов можно сделать вывод: Остановить тест, так как группа B превосходит группу А."
   ]
  }
 ],
 "metadata": {
  "ExecuteTimeLog": [
   {
    "duration": 416,
    "start_time": "2023-08-09T14:49:13.150Z"
   },
   {
    "duration": 102,
    "start_time": "2023-08-09T14:49:25.981Z"
   },
   {
    "duration": 25,
    "start_time": "2023-08-09T14:49:37.124Z"
   },
   {
    "duration": 484,
    "start_time": "2023-08-10T12:09:59.242Z"
   },
   {
    "duration": 112,
    "start_time": "2023-08-10T12:09:59.840Z"
   },
   {
    "duration": 18,
    "start_time": "2023-08-10T12:10:00.930Z"
   },
   {
    "duration": 8,
    "start_time": "2023-08-10T12:18:28.973Z"
   },
   {
    "duration": 5,
    "start_time": "2023-08-10T12:18:52.301Z"
   },
   {
    "duration": 13,
    "start_time": "2023-08-10T12:18:56.974Z"
   },
   {
    "duration": 5,
    "start_time": "2023-08-10T12:19:27.190Z"
   },
   {
    "duration": 69,
    "start_time": "2023-08-10T12:24:38.419Z"
   },
   {
    "duration": 14,
    "start_time": "2023-08-10T12:24:45.087Z"
   },
   {
    "duration": 14,
    "start_time": "2023-08-10T12:25:59.686Z"
   },
   {
    "duration": 5,
    "start_time": "2023-08-10T12:28:04.913Z"
   },
   {
    "duration": 22,
    "start_time": "2023-08-10T12:28:19.694Z"
   },
   {
    "duration": 14,
    "start_time": "2023-08-10T12:34:11.381Z"
   },
   {
    "duration": 54,
    "start_time": "2023-08-10T20:57:17.046Z"
   },
   {
    "duration": 429,
    "start_time": "2023-08-10T20:57:29.292Z"
   },
   {
    "duration": 83,
    "start_time": "2023-08-10T20:57:29.724Z"
   },
   {
    "duration": 17,
    "start_time": "2023-08-10T20:57:29.809Z"
   },
   {
    "duration": 5,
    "start_time": "2023-08-10T20:57:29.829Z"
   },
   {
    "duration": 7,
    "start_time": "2023-08-10T20:57:29.836Z"
   },
   {
    "duration": 11,
    "start_time": "2023-08-10T20:57:29.845Z"
   },
   {
    "duration": 120,
    "start_time": "2023-08-10T20:57:29.857Z"
   },
   {
    "duration": 0,
    "start_time": "2023-08-10T20:57:29.978Z"
   },
   {
    "duration": 0,
    "start_time": "2023-08-10T20:57:29.980Z"
   },
   {
    "duration": 0,
    "start_time": "2023-08-10T20:57:29.981Z"
   },
   {
    "duration": 6,
    "start_time": "2023-08-10T20:57:51.017Z"
   },
   {
    "duration": 10,
    "start_time": "2023-08-10T20:57:51.294Z"
   },
   {
    "duration": 111,
    "start_time": "2023-08-10T20:57:53.776Z"
   },
   {
    "duration": 10,
    "start_time": "2023-08-10T20:58:10.007Z"
   },
   {
    "duration": 13,
    "start_time": "2023-08-10T20:58:26.022Z"
   },
   {
    "duration": 6,
    "start_time": "2023-08-10T21:00:40.876Z"
   },
   {
    "duration": 12,
    "start_time": "2023-08-10T21:00:45.571Z"
   },
   {
    "duration": 8,
    "start_time": "2023-08-10T21:01:17.575Z"
   },
   {
    "duration": 11,
    "start_time": "2023-08-10T21:13:34.625Z"
   },
   {
    "duration": 9,
    "start_time": "2023-08-10T21:13:57.428Z"
   },
   {
    "duration": 8,
    "start_time": "2023-08-10T21:15:53.071Z"
   },
   {
    "duration": 9,
    "start_time": "2023-08-10T21:16:05.231Z"
   },
   {
    "duration": 6,
    "start_time": "2023-08-10T21:16:35.939Z"
   },
   {
    "duration": 70,
    "start_time": "2023-08-10T21:18:22.036Z"
   },
   {
    "duration": 69,
    "start_time": "2023-08-10T21:18:33.782Z"
   },
   {
    "duration": 11,
    "start_time": "2023-08-10T21:18:50.344Z"
   },
   {
    "duration": 9,
    "start_time": "2023-08-10T21:18:54.126Z"
   },
   {
    "duration": 16,
    "start_time": "2023-08-10T21:19:48.971Z"
   },
   {
    "duration": 12,
    "start_time": "2023-08-10T21:20:00.298Z"
   },
   {
    "duration": 8,
    "start_time": "2023-08-10T21:20:17.573Z"
   },
   {
    "duration": 7,
    "start_time": "2023-08-10T21:21:09.121Z"
   },
   {
    "duration": 7,
    "start_time": "2023-08-10T21:21:54.822Z"
   },
   {
    "duration": 5,
    "start_time": "2023-08-10T21:24:23.801Z"
   },
   {
    "duration": 25,
    "start_time": "2023-08-10T21:24:31.657Z"
   },
   {
    "duration": 20,
    "start_time": "2023-08-10T21:24:50.490Z"
   },
   {
    "duration": 22,
    "start_time": "2023-08-10T22:02:17.996Z"
   },
   {
    "duration": 126,
    "start_time": "2023-08-10T22:13:52.229Z"
   },
   {
    "duration": 156,
    "start_time": "2023-08-10T22:14:24.574Z"
   },
   {
    "duration": 4,
    "start_time": "2023-08-10T22:15:42.924Z"
   },
   {
    "duration": 12,
    "start_time": "2023-08-10T22:15:50.035Z"
   },
   {
    "duration": 9,
    "start_time": "2023-08-10T22:17:55.571Z"
   },
   {
    "duration": 10,
    "start_time": "2023-08-10T22:19:30.410Z"
   },
   {
    "duration": 1103,
    "start_time": "2023-08-10T22:27:13.107Z"
   },
   {
    "duration": 7,
    "start_time": "2023-08-10T22:27:15.375Z"
   },
   {
    "duration": 62,
    "start_time": "2023-08-10T22:27:17.691Z"
   },
   {
    "duration": 189,
    "start_time": "2023-08-10T22:44:11.127Z"
   },
   {
    "duration": 20,
    "start_time": "2023-08-10T22:45:29.511Z"
   },
   {
    "duration": 129,
    "start_time": "2023-08-10T22:46:24.404Z"
   },
   {
    "duration": 424,
    "start_time": "2023-08-10T22:46:38.719Z"
   },
   {
    "duration": 413,
    "start_time": "2023-08-10T22:47:11.093Z"
   },
   {
    "duration": 239,
    "start_time": "2023-08-10T22:47:50.994Z"
   },
   {
    "duration": 379,
    "start_time": "2023-08-10T22:48:44.910Z"
   },
   {
    "duration": 373,
    "start_time": "2023-08-11T13:14:37.607Z"
   },
   {
    "duration": 74,
    "start_time": "2023-08-11T13:14:37.982Z"
   },
   {
    "duration": 16,
    "start_time": "2023-08-11T13:14:38.059Z"
   },
   {
    "duration": 7,
    "start_time": "2023-08-11T13:14:38.077Z"
   },
   {
    "duration": 9,
    "start_time": "2023-08-11T13:14:38.086Z"
   },
   {
    "duration": 15,
    "start_time": "2023-08-11T13:14:38.096Z"
   },
   {
    "duration": 5,
    "start_time": "2023-08-11T13:14:38.113Z"
   },
   {
    "duration": 19,
    "start_time": "2023-08-11T13:14:38.119Z"
   },
   {
    "duration": 106,
    "start_time": "2023-08-11T13:14:38.140Z"
   },
   {
    "duration": 10,
    "start_time": "2023-08-11T13:14:38.247Z"
   },
   {
    "duration": 22,
    "start_time": "2023-08-11T13:14:38.258Z"
   },
   {
    "duration": 21,
    "start_time": "2023-08-11T13:14:38.281Z"
   },
   {
    "duration": 14,
    "start_time": "2023-08-11T13:14:38.304Z"
   },
   {
    "duration": 34,
    "start_time": "2023-08-11T13:14:38.320Z"
   },
   {
    "duration": 104,
    "start_time": "2023-08-11T13:14:38.356Z"
   },
   {
    "duration": 8,
    "start_time": "2023-08-11T13:14:38.463Z"
   },
   {
    "duration": 18,
    "start_time": "2023-08-11T13:14:38.473Z"
   },
   {
    "duration": 17,
    "start_time": "2023-08-11T13:14:38.493Z"
   },
   {
    "duration": 7,
    "start_time": "2023-08-11T13:14:38.512Z"
   },
   {
    "duration": 32,
    "start_time": "2023-08-11T13:14:38.520Z"
   },
   {
    "duration": 8,
    "start_time": "2023-08-11T13:14:38.553Z"
   },
   {
    "duration": 13,
    "start_time": "2023-08-11T13:14:38.563Z"
   },
   {
    "duration": 1070,
    "start_time": "2023-08-11T13:14:38.578Z"
   },
   {
    "duration": 10,
    "start_time": "2023-08-11T13:14:39.650Z"
   },
   {
    "duration": 170,
    "start_time": "2023-08-11T13:14:39.662Z"
   },
   {
    "duration": 12,
    "start_time": "2023-08-11T13:14:39.834Z"
   },
   {
    "duration": 125,
    "start_time": "2023-08-11T13:14:39.857Z"
   },
   {
    "duration": 266,
    "start_time": "2023-08-11T13:14:39.984Z"
   },
   {
    "duration": 321,
    "start_time": "2023-08-11T13:14:40.251Z"
   },
   {
    "duration": 182,
    "start_time": "2023-08-11T13:21:24.864Z"
   },
   {
    "duration": 206,
    "start_time": "2023-08-11T13:21:54.164Z"
   },
   {
    "duration": 215,
    "start_time": "2023-08-11T13:22:47.501Z"
   },
   {
    "duration": 318,
    "start_time": "2023-08-11T13:27:28.379Z"
   },
   {
    "duration": 285,
    "start_time": "2023-08-11T13:28:20.996Z"
   },
   {
    "duration": 3,
    "start_time": "2023-08-11T13:31:49.913Z"
   },
   {
    "duration": 13,
    "start_time": "2023-08-11T13:31:57.347Z"
   },
   {
    "duration": 9,
    "start_time": "2023-08-11T13:33:46.240Z"
   },
   {
    "duration": 14,
    "start_time": "2023-08-11T13:35:52.813Z"
   },
   {
    "duration": 15,
    "start_time": "2023-08-11T13:46:58.515Z"
   },
   {
    "duration": 12,
    "start_time": "2023-08-11T13:48:26.108Z"
   },
   {
    "duration": 13,
    "start_time": "2023-08-11T14:07:04.430Z"
   },
   {
    "duration": 105,
    "start_time": "2023-08-11T14:08:32.452Z"
   },
   {
    "duration": 14,
    "start_time": "2023-08-11T14:08:42.287Z"
   },
   {
    "duration": 15,
    "start_time": "2023-08-11T14:08:57.599Z"
   },
   {
    "duration": 17,
    "start_time": "2023-08-11T14:09:12.189Z"
   },
   {
    "duration": 227,
    "start_time": "2023-08-11T14:09:32.367Z"
   },
   {
    "duration": 113,
    "start_time": "2023-08-11T14:09:40.106Z"
   },
   {
    "duration": 22,
    "start_time": "2023-08-11T14:09:52.793Z"
   },
   {
    "duration": 124,
    "start_time": "2023-08-11T14:09:58.462Z"
   },
   {
    "duration": 9,
    "start_time": "2023-08-11T14:22:23.882Z"
   },
   {
    "duration": 6,
    "start_time": "2023-08-11T14:23:08.568Z"
   },
   {
    "duration": 150,
    "start_time": "2023-08-11T14:38:04.478Z"
   },
   {
    "duration": 184,
    "start_time": "2023-08-11T14:39:01.350Z"
   },
   {
    "duration": 4,
    "start_time": "2023-08-11T14:45:09.636Z"
   },
   {
    "duration": 158,
    "start_time": "2023-08-11T14:48:02.325Z"
   },
   {
    "duration": 15,
    "start_time": "2023-08-11T14:48:44.285Z"
   },
   {
    "duration": 4,
    "start_time": "2023-08-11T14:50:07.177Z"
   },
   {
    "duration": 14,
    "start_time": "2023-08-11T14:50:12.243Z"
   },
   {
    "duration": 231,
    "start_time": "2023-08-11T14:50:19.727Z"
   },
   {
    "duration": 130,
    "start_time": "2023-08-11T14:50:50.776Z"
   },
   {
    "duration": 114,
    "start_time": "2023-08-11T14:50:58.744Z"
   },
   {
    "duration": 112,
    "start_time": "2023-08-11T14:51:27.771Z"
   },
   {
    "duration": 118,
    "start_time": "2023-08-11T14:53:55.684Z"
   },
   {
    "duration": 10,
    "start_time": "2023-08-11T14:54:16.482Z"
   },
   {
    "duration": 130,
    "start_time": "2023-08-11T14:54:48.960Z"
   },
   {
    "duration": 135,
    "start_time": "2023-08-11T14:55:53.598Z"
   },
   {
    "duration": 25,
    "start_time": "2023-08-11T14:56:21.199Z"
   },
   {
    "duration": 22,
    "start_time": "2023-08-11T14:59:03.807Z"
   },
   {
    "duration": 46,
    "start_time": "2023-08-12T11:40:51.077Z"
   },
   {
    "duration": 8,
    "start_time": "2023-08-12T11:41:14.555Z"
   },
   {
    "duration": 7,
    "start_time": "2023-08-12T11:41:19.448Z"
   },
   {
    "duration": 401,
    "start_time": "2023-08-12T11:41:50.500Z"
   },
   {
    "duration": 61,
    "start_time": "2023-08-12T11:41:50.903Z"
   },
   {
    "duration": 15,
    "start_time": "2023-08-12T11:41:50.966Z"
   },
   {
    "duration": 9,
    "start_time": "2023-08-12T11:41:50.983Z"
   },
   {
    "duration": 31,
    "start_time": "2023-08-12T11:41:50.994Z"
   },
   {
    "duration": 14,
    "start_time": "2023-08-12T11:41:51.027Z"
   },
   {
    "duration": 7,
    "start_time": "2023-08-12T11:41:51.043Z"
   },
   {
    "duration": 22,
    "start_time": "2023-08-12T11:41:51.052Z"
   },
   {
    "duration": 93,
    "start_time": "2023-08-12T11:41:51.075Z"
   },
   {
    "duration": 11,
    "start_time": "2023-08-12T11:41:51.171Z"
   },
   {
    "duration": 39,
    "start_time": "2023-08-12T11:41:51.184Z"
   },
   {
    "duration": 8,
    "start_time": "2023-08-12T11:41:51.226Z"
   },
   {
    "duration": 9,
    "start_time": "2023-08-12T11:41:51.236Z"
   },
   {
    "duration": 16,
    "start_time": "2023-08-12T11:41:51.247Z"
   },
   {
    "duration": 61,
    "start_time": "2023-08-12T11:41:51.265Z"
   },
   {
    "duration": 11,
    "start_time": "2023-08-12T11:41:51.328Z"
   },
   {
    "duration": 15,
    "start_time": "2023-08-12T11:41:51.341Z"
   },
   {
    "duration": 9,
    "start_time": "2023-08-12T11:41:51.358Z"
   },
   {
    "duration": 11,
    "start_time": "2023-08-12T11:41:51.369Z"
   },
   {
    "duration": 31,
    "start_time": "2023-08-12T11:41:51.383Z"
   },
   {
    "duration": 4,
    "start_time": "2023-08-12T11:41:51.415Z"
   },
   {
    "duration": 16,
    "start_time": "2023-08-12T11:41:51.421Z"
   },
   {
    "duration": 858,
    "start_time": "2023-08-12T11:41:51.439Z"
   },
   {
    "duration": 6,
    "start_time": "2023-08-12T11:41:52.298Z"
   },
   {
    "duration": 141,
    "start_time": "2023-08-12T11:41:52.305Z"
   },
   {
    "duration": 10,
    "start_time": "2023-08-12T11:41:52.448Z"
   },
   {
    "duration": 110,
    "start_time": "2023-08-12T11:41:52.459Z"
   },
   {
    "duration": 236,
    "start_time": "2023-08-12T11:41:52.571Z"
   },
   {
    "duration": 270,
    "start_time": "2023-08-12T11:41:52.809Z"
   },
   {
    "duration": 228,
    "start_time": "2023-08-12T11:41:53.081Z"
   },
   {
    "duration": 304,
    "start_time": "2023-08-12T11:41:53.311Z"
   },
   {
    "duration": 11,
    "start_time": "2023-08-12T11:41:53.616Z"
   },
   {
    "duration": 109,
    "start_time": "2023-08-12T11:41:53.628Z"
   },
   {
    "duration": 4,
    "start_time": "2023-08-12T11:41:53.739Z"
   },
   {
    "duration": 121,
    "start_time": "2023-08-12T11:41:53.744Z"
   },
   {
    "duration": 119,
    "start_time": "2023-08-12T11:41:53.866Z"
   },
   {
    "duration": 13,
    "start_time": "2023-08-12T11:41:53.986Z"
   },
   {
    "duration": 3,
    "start_time": "2023-08-12T11:41:54.001Z"
   },
   {
    "duration": 250,
    "start_time": "2023-08-12T11:41:54.005Z"
   },
   {
    "duration": 121,
    "start_time": "2023-08-12T11:41:54.256Z"
   },
   {
    "duration": 5,
    "start_time": "2023-08-12T11:41:54.378Z"
   },
   {
    "duration": 19,
    "start_time": "2023-08-12T11:41:54.399Z"
   },
   {
    "duration": 18,
    "start_time": "2023-08-12T11:41:54.420Z"
   },
   {
    "duration": 111,
    "start_time": "2023-08-12T11:41:54.439Z"
   },
   {
    "duration": 9,
    "start_time": "2023-08-12T11:41:56.702Z"
   },
   {
    "duration": 9,
    "start_time": "2023-08-12T11:42:52.699Z"
   },
   {
    "duration": 354,
    "start_time": "2023-08-14T13:40:12.333Z"
   },
   {
    "duration": 72,
    "start_time": "2023-08-14T13:40:12.689Z"
   },
   {
    "duration": 21,
    "start_time": "2023-08-14T13:40:12.763Z"
   },
   {
    "duration": 9,
    "start_time": "2023-08-14T13:40:12.786Z"
   },
   {
    "duration": 28,
    "start_time": "2023-08-14T13:40:12.796Z"
   },
   {
    "duration": 20,
    "start_time": "2023-08-14T13:40:12.826Z"
   },
   {
    "duration": 5,
    "start_time": "2023-08-14T13:40:12.848Z"
   },
   {
    "duration": 16,
    "start_time": "2023-08-14T13:40:12.854Z"
   },
   {
    "duration": 101,
    "start_time": "2023-08-14T13:40:12.871Z"
   },
   {
    "duration": 9,
    "start_time": "2023-08-14T13:40:12.974Z"
   },
   {
    "duration": 12,
    "start_time": "2023-08-14T13:40:12.985Z"
   },
   {
    "duration": 6,
    "start_time": "2023-08-14T13:40:12.999Z"
   },
   {
    "duration": 8,
    "start_time": "2023-08-14T13:40:13.006Z"
   },
   {
    "duration": 10,
    "start_time": "2023-08-14T13:40:13.015Z"
   },
   {
    "duration": 70,
    "start_time": "2023-08-14T13:40:13.027Z"
   },
   {
    "duration": 7,
    "start_time": "2023-08-14T13:40:13.099Z"
   },
   {
    "duration": 11,
    "start_time": "2023-08-14T13:40:13.108Z"
   },
   {
    "duration": 8,
    "start_time": "2023-08-14T13:40:13.121Z"
   },
   {
    "duration": 12,
    "start_time": "2023-08-14T13:40:13.130Z"
   },
   {
    "duration": 21,
    "start_time": "2023-08-14T13:40:13.144Z"
   },
   {
    "duration": 3,
    "start_time": "2023-08-14T13:40:13.166Z"
   },
   {
    "duration": 18,
    "start_time": "2023-08-14T13:40:13.171Z"
   },
   {
    "duration": 941,
    "start_time": "2023-08-14T13:40:13.194Z"
   },
   {
    "duration": 6,
    "start_time": "2023-08-14T13:40:14.137Z"
   },
   {
    "duration": 266,
    "start_time": "2023-08-14T13:40:14.145Z"
   },
   {
    "duration": 10,
    "start_time": "2023-08-14T13:40:14.413Z"
   },
   {
    "duration": 119,
    "start_time": "2023-08-14T13:40:14.425Z"
   },
   {
    "duration": 278,
    "start_time": "2023-08-14T13:40:14.547Z"
   },
   {
    "duration": 328,
    "start_time": "2023-08-14T13:40:14.828Z"
   },
   {
    "duration": 228,
    "start_time": "2023-08-14T13:40:15.158Z"
   },
   {
    "duration": 342,
    "start_time": "2023-08-14T13:40:15.389Z"
   },
   {
    "duration": 12,
    "start_time": "2023-08-14T13:40:15.732Z"
   },
   {
    "duration": 141,
    "start_time": "2023-08-14T13:40:15.745Z"
   },
   {
    "duration": 5,
    "start_time": "2023-08-14T13:40:15.889Z"
   },
   {
    "duration": 153,
    "start_time": "2023-08-14T13:40:15.895Z"
   },
   {
    "duration": 137,
    "start_time": "2023-08-14T13:40:16.050Z"
   },
   {
    "duration": 4,
    "start_time": "2023-08-14T13:40:16.189Z"
   },
   {
    "duration": 27,
    "start_time": "2023-08-14T13:40:16.195Z"
   },
   {
    "duration": 268,
    "start_time": "2023-08-14T13:40:16.223Z"
   },
   {
    "duration": 128,
    "start_time": "2023-08-14T13:40:16.492Z"
   },
   {
    "duration": 6,
    "start_time": "2023-08-14T13:40:16.622Z"
   },
   {
    "duration": 48,
    "start_time": "2023-08-14T13:40:16.629Z"
   },
   {
    "duration": 40,
    "start_time": "2023-08-14T13:40:16.679Z"
   },
   {
    "duration": 20,
    "start_time": "2023-08-14T13:40:16.720Z"
   },
   {
    "duration": 28,
    "start_time": "2023-08-14T13:40:16.741Z"
   },
   {
    "duration": 12,
    "start_time": "2023-08-14T13:40:40.863Z"
   },
   {
    "duration": 267,
    "start_time": "2023-08-14T13:41:13.024Z"
   },
   {
    "duration": 14,
    "start_time": "2023-08-14T13:41:30.016Z"
   },
   {
    "duration": 389,
    "start_time": "2023-08-14T13:51:07.893Z"
   },
   {
    "duration": 2102,
    "start_time": "2023-08-14T14:06:14.789Z"
   },
   {
    "duration": 11,
    "start_time": "2023-08-14T14:06:42.124Z"
   },
   {
    "duration": 8,
    "start_time": "2023-08-14T14:11:36.808Z"
   },
   {
    "duration": 1802,
    "start_time": "2023-08-14T14:13:35.227Z"
   },
   {
    "duration": 1845,
    "start_time": "2023-08-14T14:15:10.358Z"
   },
   {
    "duration": 2010,
    "start_time": "2023-08-14T14:15:24.120Z"
   },
   {
    "duration": 8,
    "start_time": "2023-08-14T14:15:52.311Z"
   },
   {
    "duration": 12,
    "start_time": "2023-08-14T14:17:33.871Z"
   },
   {
    "duration": 35,
    "start_time": "2023-08-14T14:18:17.859Z"
   },
   {
    "duration": 13,
    "start_time": "2023-08-14T14:25:39.796Z"
   },
   {
    "duration": 56,
    "start_time": "2023-08-14T17:17:20.971Z"
   },
   {
    "duration": 411,
    "start_time": "2023-08-14T17:17:47.462Z"
   },
   {
    "duration": 64,
    "start_time": "2023-08-14T17:17:47.875Z"
   },
   {
    "duration": 15,
    "start_time": "2023-08-14T17:17:47.940Z"
   },
   {
    "duration": 4,
    "start_time": "2023-08-14T17:17:47.957Z"
   },
   {
    "duration": 10,
    "start_time": "2023-08-14T17:17:47.962Z"
   },
   {
    "duration": 13,
    "start_time": "2023-08-14T17:17:47.973Z"
   },
   {
    "duration": 9,
    "start_time": "2023-08-14T17:17:47.987Z"
   },
   {
    "duration": 15,
    "start_time": "2023-08-14T17:17:47.997Z"
   },
   {
    "duration": 91,
    "start_time": "2023-08-14T17:17:48.013Z"
   },
   {
    "duration": 8,
    "start_time": "2023-08-14T17:17:48.107Z"
   },
   {
    "duration": 15,
    "start_time": "2023-08-14T17:17:48.117Z"
   },
   {
    "duration": 9,
    "start_time": "2023-08-14T17:17:48.134Z"
   },
   {
    "duration": 8,
    "start_time": "2023-08-14T17:17:48.146Z"
   },
   {
    "duration": 14,
    "start_time": "2023-08-14T17:17:48.156Z"
   },
   {
    "duration": 57,
    "start_time": "2023-08-14T17:17:48.172Z"
   },
   {
    "duration": 9,
    "start_time": "2023-08-14T17:17:48.231Z"
   },
   {
    "duration": 14,
    "start_time": "2023-08-14T17:17:48.242Z"
   },
   {
    "duration": 11,
    "start_time": "2023-08-14T17:17:48.258Z"
   },
   {
    "duration": 7,
    "start_time": "2023-08-14T17:17:48.271Z"
   },
   {
    "duration": 22,
    "start_time": "2023-08-14T17:17:48.279Z"
   },
   {
    "duration": 3,
    "start_time": "2023-08-14T17:17:48.303Z"
   },
   {
    "duration": 19,
    "start_time": "2023-08-14T17:17:48.308Z"
   },
   {
    "duration": 995,
    "start_time": "2023-08-14T17:17:48.329Z"
   },
   {
    "duration": 7,
    "start_time": "2023-08-14T17:17:49.326Z"
   },
   {
    "duration": 185,
    "start_time": "2023-08-14T17:17:49.335Z"
   },
   {
    "duration": 12,
    "start_time": "2023-08-14T17:17:49.522Z"
   },
   {
    "duration": 143,
    "start_time": "2023-08-14T17:17:49.536Z"
   },
   {
    "duration": 285,
    "start_time": "2023-08-14T17:17:49.683Z"
   },
   {
    "duration": 324,
    "start_time": "2023-08-14T17:17:49.969Z"
   },
   {
    "duration": 246,
    "start_time": "2023-08-14T17:17:50.295Z"
   },
   {
    "duration": 383,
    "start_time": "2023-08-14T17:17:50.543Z"
   },
   {
    "duration": 252,
    "start_time": "2023-08-14T17:17:50.928Z"
   },
   {
    "duration": 14,
    "start_time": "2023-08-14T17:17:51.182Z"
   },
   {
    "duration": 356,
    "start_time": "2023-08-14T17:17:51.198Z"
   },
   {
    "duration": 12,
    "start_time": "2023-08-14T17:17:51.559Z"
   },
   {
    "duration": 219,
    "start_time": "2023-08-14T17:17:51.572Z"
   },
   {
    "duration": 4,
    "start_time": "2023-08-14T17:17:51.793Z"
   },
   {
    "duration": 173,
    "start_time": "2023-08-14T17:17:51.800Z"
   },
   {
    "duration": 154,
    "start_time": "2023-08-14T17:17:51.975Z"
   },
   {
    "duration": 5,
    "start_time": "2023-08-14T17:17:52.131Z"
   },
   {
    "duration": 17,
    "start_time": "2023-08-14T17:17:52.138Z"
   },
   {
    "duration": 223,
    "start_time": "2023-08-14T17:17:52.157Z"
   },
   {
    "duration": 144,
    "start_time": "2023-08-14T17:17:52.382Z"
   },
   {
    "duration": 7,
    "start_time": "2023-08-14T17:17:52.527Z"
   },
   {
    "duration": 35,
    "start_time": "2023-08-14T17:17:52.535Z"
   },
   {
    "duration": 23,
    "start_time": "2023-08-14T17:17:52.571Z"
   },
   {
    "duration": 11,
    "start_time": "2023-08-14T17:17:52.596Z"
   },
   {
    "duration": 29,
    "start_time": "2023-08-14T17:17:52.609Z"
   },
   {
    "duration": 27,
    "start_time": "2023-08-14T17:17:52.640Z"
   },
   {
    "duration": 25,
    "start_time": "2023-08-14T17:17:52.668Z"
   },
   {
    "duration": 51,
    "start_time": "2023-08-14T17:17:52.694Z"
   },
   {
    "duration": 15,
    "start_time": "2023-08-14T17:17:52.747Z"
   },
   {
    "duration": 115,
    "start_time": "2023-08-14T17:18:12.163Z"
   },
   {
    "duration": 15,
    "start_time": "2023-08-14T17:18:18.564Z"
   },
   {
    "duration": 446,
    "start_time": "2023-08-14T17:18:27.997Z"
   },
   {
    "duration": 29,
    "start_time": "2023-08-14T17:18:28.446Z"
   },
   {
    "duration": 18,
    "start_time": "2023-08-14T17:18:28.478Z"
   },
   {
    "duration": 11,
    "start_time": "2023-08-14T17:18:28.499Z"
   },
   {
    "duration": 11,
    "start_time": "2023-08-14T17:18:28.511Z"
   },
   {
    "duration": 12,
    "start_time": "2023-08-14T17:18:28.524Z"
   },
   {
    "duration": 8,
    "start_time": "2023-08-14T17:18:28.537Z"
   },
   {
    "duration": 23,
    "start_time": "2023-08-14T17:18:28.547Z"
   },
   {
    "duration": 46,
    "start_time": "2023-08-14T17:18:28.571Z"
   },
   {
    "duration": 9,
    "start_time": "2023-08-14T17:18:28.620Z"
   },
   {
    "duration": 21,
    "start_time": "2023-08-14T17:18:28.630Z"
   },
   {
    "duration": 11,
    "start_time": "2023-08-14T17:18:28.653Z"
   },
   {
    "duration": 15,
    "start_time": "2023-08-14T17:18:28.666Z"
   },
   {
    "duration": 10,
    "start_time": "2023-08-14T17:18:28.683Z"
   },
   {
    "duration": 22,
    "start_time": "2023-08-14T17:18:28.696Z"
   },
   {
    "duration": 8,
    "start_time": "2023-08-14T17:18:28.720Z"
   },
   {
    "duration": 14,
    "start_time": "2023-08-14T17:18:28.730Z"
   },
   {
    "duration": 10,
    "start_time": "2023-08-14T17:18:28.745Z"
   },
   {
    "duration": 7,
    "start_time": "2023-08-14T17:18:28.757Z"
   },
   {
    "duration": 24,
    "start_time": "2023-08-14T17:18:28.766Z"
   },
   {
    "duration": 3,
    "start_time": "2023-08-14T17:18:28.792Z"
   },
   {
    "duration": 16,
    "start_time": "2023-08-14T17:18:28.797Z"
   },
   {
    "duration": 819,
    "start_time": "2023-08-14T17:18:28.815Z"
   },
   {
    "duration": 6,
    "start_time": "2023-08-14T17:18:29.637Z"
   },
   {
    "duration": 172,
    "start_time": "2023-08-14T17:18:29.645Z"
   },
   {
    "duration": 12,
    "start_time": "2023-08-14T17:18:29.819Z"
   },
   {
    "duration": 139,
    "start_time": "2023-08-14T17:18:29.832Z"
   },
   {
    "duration": 306,
    "start_time": "2023-08-14T17:18:29.975Z"
   },
   {
    "duration": 330,
    "start_time": "2023-08-14T17:18:30.282Z"
   },
   {
    "duration": 232,
    "start_time": "2023-08-14T17:18:30.614Z"
   },
   {
    "duration": 342,
    "start_time": "2023-08-14T17:18:30.848Z"
   },
   {
    "duration": 263,
    "start_time": "2023-08-14T17:18:31.192Z"
   },
   {
    "duration": 16,
    "start_time": "2023-08-14T17:18:31.458Z"
   },
   {
    "duration": 389,
    "start_time": "2023-08-14T17:18:31.475Z"
   },
   {
    "duration": 14,
    "start_time": "2023-08-14T17:18:31.866Z"
   },
   {
    "duration": 162,
    "start_time": "2023-08-14T17:18:31.882Z"
   },
   {
    "duration": 5,
    "start_time": "2023-08-14T17:18:32.046Z"
   },
   {
    "duration": 156,
    "start_time": "2023-08-14T17:18:32.059Z"
   },
   {
    "duration": 248,
    "start_time": "2023-08-14T17:18:32.216Z"
   },
   {
    "duration": 5,
    "start_time": "2023-08-14T17:18:32.466Z"
   },
   {
    "duration": 19,
    "start_time": "2023-08-14T17:18:32.473Z"
   },
   {
    "duration": 234,
    "start_time": "2023-08-14T17:18:32.494Z"
   },
   {
    "duration": 147,
    "start_time": "2023-08-14T17:18:32.730Z"
   },
   {
    "duration": 7,
    "start_time": "2023-08-14T17:18:32.879Z"
   },
   {
    "duration": 37,
    "start_time": "2023-08-14T17:18:32.888Z"
   },
   {
    "duration": 21,
    "start_time": "2023-08-14T17:18:32.926Z"
   },
   {
    "duration": 18,
    "start_time": "2023-08-14T17:18:32.949Z"
   },
   {
    "duration": 12,
    "start_time": "2023-08-14T17:18:32.969Z"
   },
   {
    "duration": 31,
    "start_time": "2023-08-14T17:18:32.983Z"
   },
   {
    "duration": 35,
    "start_time": "2023-08-14T17:18:33.017Z"
   },
   {
    "duration": 56,
    "start_time": "2023-08-14T17:18:33.054Z"
   },
   {
    "duration": 16,
    "start_time": "2023-08-14T17:18:33.113Z"
   },
   {
    "duration": 1412,
    "start_time": "2023-08-14T17:20:21.441Z"
   },
   {
    "duration": 422,
    "start_time": "2023-08-14T17:20:40.725Z"
   },
   {
    "duration": 30,
    "start_time": "2023-08-14T17:20:41.149Z"
   },
   {
    "duration": 15,
    "start_time": "2023-08-14T17:20:41.181Z"
   },
   {
    "duration": 12,
    "start_time": "2023-08-14T17:20:41.199Z"
   },
   {
    "duration": 9,
    "start_time": "2023-08-14T17:20:41.213Z"
   },
   {
    "duration": 13,
    "start_time": "2023-08-14T17:20:41.224Z"
   },
   {
    "duration": 15,
    "start_time": "2023-08-14T17:20:41.238Z"
   },
   {
    "duration": 21,
    "start_time": "2023-08-14T17:20:41.255Z"
   },
   {
    "duration": 46,
    "start_time": "2023-08-14T17:20:41.278Z"
   },
   {
    "duration": 10,
    "start_time": "2023-08-14T17:20:41.327Z"
   },
   {
    "duration": 35,
    "start_time": "2023-08-14T17:20:41.339Z"
   },
   {
    "duration": 8,
    "start_time": "2023-08-14T17:20:41.376Z"
   },
   {
    "duration": 12,
    "start_time": "2023-08-14T17:20:41.385Z"
   },
   {
    "duration": 11,
    "start_time": "2023-08-14T17:20:41.399Z"
   },
   {
    "duration": 30,
    "start_time": "2023-08-14T17:20:41.411Z"
   },
   {
    "duration": 8,
    "start_time": "2023-08-14T17:20:41.443Z"
   },
   {
    "duration": 15,
    "start_time": "2023-08-14T17:20:41.453Z"
   },
   {
    "duration": 26,
    "start_time": "2023-08-14T17:20:41.470Z"
   },
   {
    "duration": 14,
    "start_time": "2023-08-14T17:20:41.497Z"
   },
   {
    "duration": 32,
    "start_time": "2023-08-14T17:20:41.513Z"
   },
   {
    "duration": 3,
    "start_time": "2023-08-14T17:20:41.547Z"
   },
   {
    "duration": 28,
    "start_time": "2023-08-14T17:20:41.552Z"
   },
   {
    "duration": 836,
    "start_time": "2023-08-14T17:20:41.582Z"
   },
   {
    "duration": 5,
    "start_time": "2023-08-14T17:20:42.420Z"
   },
   {
    "duration": 184,
    "start_time": "2023-08-14T17:20:42.427Z"
   },
   {
    "duration": 12,
    "start_time": "2023-08-14T17:20:42.613Z"
   },
   {
    "duration": 133,
    "start_time": "2023-08-14T17:20:42.626Z"
   },
   {
    "duration": 292,
    "start_time": "2023-08-14T17:20:42.762Z"
   },
   {
    "duration": 342,
    "start_time": "2023-08-14T17:20:43.055Z"
   },
   {
    "duration": 228,
    "start_time": "2023-08-14T17:20:43.398Z"
   },
   {
    "duration": 343,
    "start_time": "2023-08-14T17:20:43.628Z"
   },
   {
    "duration": 252,
    "start_time": "2023-08-14T17:20:43.973Z"
   },
   {
    "duration": 14,
    "start_time": "2023-08-14T17:20:44.227Z"
   },
   {
    "duration": 404,
    "start_time": "2023-08-14T17:20:44.242Z"
   },
   {
    "duration": 21,
    "start_time": "2023-08-14T17:20:44.647Z"
   },
   {
    "duration": 136,
    "start_time": "2023-08-14T17:20:44.670Z"
   },
   {
    "duration": 5,
    "start_time": "2023-08-14T17:20:44.807Z"
   },
   {
    "duration": 157,
    "start_time": "2023-08-14T17:20:44.813Z"
   },
   {
    "duration": 247,
    "start_time": "2023-08-14T17:20:44.972Z"
   },
   {
    "duration": 5,
    "start_time": "2023-08-14T17:20:45.222Z"
   },
   {
    "duration": 9,
    "start_time": "2023-08-14T17:20:45.229Z"
   },
   {
    "duration": 270,
    "start_time": "2023-08-14T17:20:45.240Z"
   },
   {
    "duration": 150,
    "start_time": "2023-08-14T17:20:45.512Z"
   },
   {
    "duration": 7,
    "start_time": "2023-08-14T17:20:45.664Z"
   },
   {
    "duration": 30,
    "start_time": "2023-08-14T17:20:45.673Z"
   },
   {
    "duration": 23,
    "start_time": "2023-08-14T17:20:45.705Z"
   },
   {
    "duration": 39,
    "start_time": "2023-08-14T17:20:45.729Z"
   },
   {
    "duration": 11,
    "start_time": "2023-08-14T17:20:45.770Z"
   },
   {
    "duration": 14,
    "start_time": "2023-08-14T17:20:45.783Z"
   },
   {
    "duration": 12,
    "start_time": "2023-08-14T17:20:45.799Z"
   },
   {
    "duration": 48,
    "start_time": "2023-08-14T17:20:45.813Z"
   },
   {
    "duration": 15,
    "start_time": "2023-08-14T17:20:45.863Z"
   },
   {
    "duration": 79,
    "start_time": "2023-08-14T17:39:57.693Z"
   }
  ],
  "kernelspec": {
   "display_name": "Python 3 (ipykernel)",
   "language": "python",
   "name": "python3"
  },
  "language_info": {
   "codemirror_mode": {
    "name": "ipython",
    "version": 3
   },
   "file_extension": ".py",
   "mimetype": "text/x-python",
   "name": "python",
   "nbconvert_exporter": "python",
   "pygments_lexer": "ipython3",
   "version": "3.10.9"
  },
  "toc": {
   "base_numbering": 1,
   "nav_menu": {},
   "number_sections": true,
   "sideBar": true,
   "skip_h1_title": true,
   "title_cell": "Table of Contents",
   "title_sidebar": "Contents",
   "toc_cell": false,
   "toc_position": {},
   "toc_section_display": true,
   "toc_window_display": false
  }
 },
 "nbformat": 4,
 "nbformat_minor": 2
}
